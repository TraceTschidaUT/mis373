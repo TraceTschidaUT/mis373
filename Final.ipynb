{
 "cells": [
  {
   "cell_type": "code",
   "execution_count": 1,
   "metadata": {},
   "outputs": [
    {
     "name": "stdout",
     "output_type": "stream",
     "text": [
      "Populating the interactive namespace from numpy and matplotlib\n"
     ]
    }
   ],
   "source": [
    "import pandas as pd\n",
    "from pandas import Series, DataFrame\n",
    "%pylab inline"
   ]
  },
  {
   "cell_type": "markdown",
   "metadata": {},
   "source": [
    "---\n",
    "The exam is split as follows:\n",
    "\n",
    "* Q1: conceptual question worth 24 points.\n",
    "* Questions 2 to 12 are Pandas questions worth 5 or 6 points each.\n",
    "* Questions 13 and 14 are about classification, and worth 15 points total.\n",
    "\n",
    "Best of luck!\n",
    "\n",
    "---"
   ]
  },
  {
   "cell_type": "markdown",
   "metadata": {},
   "source": [
    "## [Q1 24 points]\n",
    "\n",
    "Consider the following dataset, with blue being positive class and red being negative class.\n",
    "![Example](example1.png \"Figure for classification\")"
   ]
  },
  {
   "cell_type": "markdown",
   "metadata": {},
   "source": [
    "### (a) What is the best accuracy that K-Nearest Neighbors can achieve?"
   ]
  },
  {
   "cell_type": "markdown",
   "metadata": {},
   "source": []
  },
  {
   "cell_type": "markdown",
   "metadata": {},
   "source": [
    "### (b) What is the best accuracy that a Decision Tree can achieve?"
   ]
  },
  {
   "cell_type": "markdown",
   "metadata": {},
   "source": []
  },
  {
   "cell_type": "markdown",
   "metadata": {},
   "source": [
    "### (c) What is the best accuracy that Logistic Regression can achieve?"
   ]
  },
  {
   "cell_type": "markdown",
   "metadata": {},
   "source": []
  },
  {
   "cell_type": "markdown",
   "metadata": {},
   "source": [
    "### (d) On which feature will the first split of the Decision Tree be made?"
   ]
  },
  {
   "cell_type": "markdown",
   "metadata": {},
   "source": []
  },
  {
   "cell_type": "markdown",
   "metadata": {},
   "source": [
    "### (e) Suppose we only had Feature 1 and not Feature 2. What accuracy would K-Nearest Neighbors achieve?"
   ]
  },
  {
   "cell_type": "markdown",
   "metadata": {},
   "source": []
  },
  {
   "cell_type": "markdown",
   "metadata": {},
   "source": [
    "### (f) Suppose we only had Feature 2 and not Feature 1. What accuracy would K-Nearest Neighbors achieve?"
   ]
  },
  {
   "cell_type": "markdown",
   "metadata": {},
   "source": []
  },
  {
   "cell_type": "markdown",
   "metadata": {},
   "source": [
    "---\n",
    "We shall now consider a dataset about Crime complaints in Chicago over a period of several years."
   ]
  },
  {
   "cell_type": "code",
   "execution_count": 2,
   "metadata": {},
   "outputs": [
    {
     "data": {
      "text/plain": [
       "array(['Case Number', 'Block', 'HourOfDay', 'IUCR', 'PrimaryType',\n",
       "       'Description', 'Location', 'Arrest', 'Domestic', 'dummy'], dtype=object)"
      ]
     },
     "execution_count": 2,
     "metadata": {},
     "output_type": "execute_result"
    }
   ],
   "source": [
    "df = pd.read_csv('Crime3.csv', index_col=2, parse_dates=True, infer_datetime_format=True)\n",
    "df[:2]\n",
    "df.columns.values"
   ]
  },
  {
   "cell_type": "markdown",
   "metadata": {},
   "source": [
    "## [Q2 5 points] Plot the frequencies of the top 20 most common Primary Types"
   ]
  },
  {
   "cell_type": "code",
   "execution_count": 3,
   "metadata": {},
   "outputs": [
    {
     "data": {
      "text/plain": [
       "<matplotlib.axes._subplots.AxesSubplot at 0xcef8320>"
      ]
     },
     "execution_count": 3,
     "metadata": {},
     "output_type": "execute_result"
    },
    {
     "data": {
      "image/png": "[encoded data removed]",
      "text/plain": [
       "<matplotlib.figure.Figure at 0x9986208>"
      ]
     },
     "metadata": {},
     "output_type": "display_data"
    }
   ],
   "source": [
    "df['PrimaryType'].value_counts()[:20].plot(kind='bar')"
   ]
  },
  {
   "cell_type": "markdown",
   "metadata": {},
   "source": [
    "## [Q3 5 points] Find the top 10 most common descriptions for Primary Type NARCOTICS"
   ]
  },
  {
   "cell_type": "code",
   "execution_count": 4,
   "metadata": {},
   "outputs": [
    {
     "data": {
      "text/plain": [
       "POSS: CANNABIS 30GMS OR LESS      2695\n",
       "POSS: CRACK                       1187\n",
       "POSS: HEROIN(WHITE)                918\n",
       "POSS: COCAINE                      256\n",
       "MANU/DELIVER:CRACK                 249\n",
       "SOLICIT NARCOTICS ON PUBLICWAY     247\n",
       "MANU/DELIVER: HEROIN (WHITE)       236\n",
       "ATTEMPT POSSESSION NARCOTICS       192\n",
       "POSS: CANNABIS MORE THAN 30GMS     161\n",
       "FOUND SUSPECT NARCOTICS            147\n",
       "Name: Description, dtype: int64"
      ]
     },
     "execution_count": 4,
     "metadata": {},
     "output_type": "execute_result"
    }
   ],
   "source": [
    "# Create a mask just for primary type narcostics\n",
    "mask_narcs = (df['PrimaryType'] == 'NARCOTICS')\n",
    "df3 = df[mask_narcs]\n",
    "\n",
    "# Value counts on the descriptions\n",
    "df3['Description'].value_counts()[:10]"
   ]
  },
  {
   "cell_type": "markdown",
   "metadata": {},
   "source": [
    "## [Q4 5 points] Among incidents that are Domestic and lead to Arrests, what are the top 10 most frequent Primary Types?"
   ]
  },
  {
   "cell_type": "code",
   "execution_count": 5,
   "metadata": {},
   "outputs": [
    {
     "data": {
      "text/plain": [
       "BATTERY                       1034\n",
       "OTHER OFFENSE                  170\n",
       "ASSAULT                        158\n",
       "CRIMINAL DAMAGE                 84\n",
       "OFFENSE INVOLVING CHILDREN      46\n",
       "THEFT                           27\n",
       "CRIMINAL TRESPASS               20\n",
       "CRIM SEXUAL ASSAULT              7\n",
       "SEX OFFENSE                      6\n",
       "WEAPONS VIOLATION                5\n",
       "Name: PrimaryType, dtype: int64"
      ]
     },
     "execution_count": 5,
     "metadata": {},
     "output_type": "execute_result"
    }
   ],
   "source": [
    "# Create a mask for Domestic and Arrests\n",
    "mask_domestic_arrest = ((df['Domestic'] == 1) & (df['Arrest'] == 1))\n",
    "df4 = df[mask_domestic_arrest]\n",
    "\n",
    "# Value counts on the primary types\n",
    "df4['PrimaryType'].value_counts()[:10]"
   ]
  },
  {
   "cell_type": "markdown",
   "metadata": {},
   "source": [
    "## [Q5 6 points] How many descriptions have \"POSS:\" versus \"MANU/DELIVER:\"?\n",
    "\n",
    "Under the Narcotics PrimaryType, there are several Description fields like __POSS: CRACK__, __POSS: COCAINE__, __MANU/DELIVER:CRACK__, __MANU/DELIVER: HEROIN (WHITE)__, etc. We want to count the number of rows that have \"POSS:\" or \"MANU/DELIVER:\"."
   ]
  },
  {
   "cell_type": "code",
   "execution_count": 6,
   "metadata": {},
   "outputs": [
    {
     "name": "stdout",
     "output_type": "stream",
     "text": [
      "5367\n",
      "537\n"
     ]
    }
   ],
   "source": [
    "# Create a mask for POSS: and MANU/DELIVER\n",
    "def poss(e):\n",
    "    return 'POSS:' in e\n",
    "\n",
    "def manu(e):\n",
    "    return 'MANU/DELIVER:' in e\n",
    "\n",
    "mask_poss = df['Description'].map(poss)\n",
    "mask_manu = df['Description'].map(manu)\n",
    "\n",
    "df5a = df[mask_poss]\n",
    "df5b = df[mask_manu]\n",
    "\n",
    "print len(df5a)\n",
    "print len(df5b)"
   ]
  },
  {
   "cell_type": "markdown",
   "metadata": {},
   "source": [
    "## [Q6 6 points] Plot the total number of complaints each month with PrimaryType BATTERY, with the month being the x-axis. Also plot the 12-month moving average of this time series.\n",
    "\n",
    "First, create a column which is 1 if that particular complaint is about a BATTERY, and 0 otherwise. Now use this column to do the above plots."
   ]
  },
  {
   "cell_type": "code",
   "execution_count": 7,
   "metadata": {},
   "outputs": [
    {
     "data": {
      "text/plain": [
       "<matplotlib.axes._subplots.AxesSubplot at 0xce93160>"
      ]
     },
     "execution_count": 7,
     "metadata": {},
     "output_type": "execute_result"
    },
    {
     "data": {
      "image/png": "[encoded data removed]",
      "text/plain": [
       "<matplotlib.figure.Figure at 0xcc1e358>"
      ]
     },
     "metadata": {},
     "output_type": "display_data"
    }
   ],
   "source": [
    "def month(e):\n",
    "    return e.month\n",
    "\n",
    "df6 = df.reset_index()\n",
    "df6['month'] = df6['Date'].map(month)\n",
    "\n",
    "# create a mask for BATTERY\n",
    "mask_battery = df6['PrimaryType'] == 'BATTERY'\n",
    "df6 = df6[mask_battery]\n",
    "\n",
    "df6.groupby('month')['PrimaryType'].count().plot()"
   ]
  },
  {
   "cell_type": "markdown",
   "metadata": {},
   "source": [
    "## [Q7 6 points] Plot the frequency of THEFT, BATTERY, and NARCOTICS versus HourOfDay in 3 subplots of 1 figure."
   ]
  },
  {
   "cell_type": "code",
   "execution_count": 15,
   "metadata": {},
   "outputs": [
    {
     "data": {
      "text/plain": [
       "[<matplotlib.lines.Line2D at 0xbc41ba8>]"
      ]
     },
     "execution_count": 15,
     "metadata": {},
     "output_type": "execute_result"
    },
    {
     "data": {
      "image/png": "[encoded data removed]",
      "text/plain": [
       "<matplotlib.figure.Figure at 0xbba74a8>"
      ]
     },
     "metadata": {},
     "output_type": "display_data"
    }
   ],
   "source": [
    "# Create a mask for each PrimaryType\n",
    "mask_theft = df['PrimaryType'] == 'THEFT'\n",
    "mask_battery = df['PrimaryType'] == 'BATTERY'\n",
    "mask_narcs = df['PrimaryType'] == 'NARCOTICS'\n",
    "\n",
    "df7a = df[mask_theft].groupby('HourOfDay')['PrimaryType'].count()\n",
    "df7b = df[mask_battery].groupby('HourOfDay')['PrimaryType'].count()\n",
    "df7c = df[mask_narcs].groupby('HourOfDay')['PrimaryType'].count()\n",
    "\n",
    "fig, (ax1, ax2, ax3) = subplots(nrows=3, ncols=1, figsize=(8,12))\n",
    "\n",
    "ax1.plot(df7a.index, df7a.values, marker='o', linestyle='None')\n",
    "ax2.plot(df7b.index, df7b.values, marker='o', linestyle='None')\n",
    "ax3.plot(df7c.index, df7c.values, marker='o', linestyle='None')"
   ]
  },
  {
   "cell_type": "markdown",
   "metadata": {},
   "source": [
    "## [Q8 6 points] Plot the frequency of complaints by street names for the 20 streets with the highest complaints.\n",
    "\n",
    "If the Block is **024XX W CERMAK RD**, then the street name is **W CERMAK RD**."
   ]
  },
  {
   "cell_type": "code",
   "execution_count": 22,
   "metadata": {},
   "outputs": [
    {
     "data": {
      "text/plain": [
       "<matplotlib.axes._subplots.AxesSubplot at 0xd7d7518>"
      ]
     },
     "execution_count": 22,
     "metadata": {},
     "output_type": "execute_result"
    },
    {
     "data": {
      "image/png": "[encoded data removed]",
      "text/plain": [
       "<matplotlib.figure.Figure at 0xd7d7ac8>"
      ]
     },
     "metadata": {},
     "output_type": "display_data"
    }
   ],
   "source": [
    "def streetName(e):\n",
    "    block = e.split(' ')\n",
    "    return ''.join([x + ' ' for x in block[1:]])\n",
    "\n",
    "df8 = df\n",
    "df8['street'] = df8['Block'].map(streetName)\n",
    "\n",
    "df8['street'].value_counts()[:20].plot(kind='bar')"
   ]
  },
  {
   "cell_type": "markdown",
   "metadata": {},
   "source": [
    "## [Q9 5 points] Check if each complaint has a unique Case Number."
   ]
  },
  {
   "cell_type": "code",
   "execution_count": 23,
   "metadata": {},
   "outputs": [
    {
     "name": "stdout",
     "output_type": "stream",
     "text": [
      "63008\n",
      "63008\n"
     ]
    }
   ],
   "source": [
    "print len(df['Case Number'])\n",
    "print len(df['Case Number'].unique())"
   ]
  },
  {
   "cell_type": "markdown",
   "metadata": {},
   "source": [
    "## [Q10 5 points] How many IUCR codes correspond to a single Primary Type?"
   ]
  },
  {
   "cell_type": "code",
   "execution_count": 33,
   "metadata": {},
   "outputs": [
    {
     "name": "stdout",
     "output_type": "stream",
     "text": [
      "27\n"
     ]
    }
   ],
   "source": [
    "df10 = df['IUCR'].value_counts()\n",
    "\n",
    "mask_iucr = (df10 == 1)\n",
    "df10 = df10[mask_iucr]\n",
    "print len(df10)"
   ]
  },
  {
   "cell_type": "markdown",
   "metadata": {},
   "source": [
    "## [Q11 6 points] Among Locations with at least 1000 complaints, what are the most frequent Primary Types?"
   ]
  },
  {
   "cell_type": "code",
   "execution_count": 55,
   "metadata": {},
   "outputs": [
    {
     "data": {
      "text/plain": [
       "BATTERY                              10048\n",
       "THEFT                                 9269\n",
       "CRIMINAL DAMAGE                       6339\n",
       "NARCOTICS                             6110\n",
       "OTHER OFFENSE                         3477\n",
       "BURGLARY                              3218\n",
       "ASSAULT                               3195\n",
       "MOTOR VEHICLE THEFT                   2852\n",
       "ROBBERY                               1960\n",
       "DECEPTIVE PRACTICE                    1404\n",
       "CRIMINAL TRESPASS                      877\n",
       "PROSTITUTION                           641\n",
       "WEAPONS VIOLATION                      558\n",
       "PUBLIC PEACE VIOLATION                 395\n",
       "OFFENSE INVOLVING CHILDREN             369\n",
       "CRIM SEXUAL ASSAULT                    217\n",
       "SEX OFFENSE                            176\n",
       "GAMBLING                               119\n",
       "INTERFERENCE WITH PUBLIC OFFICER       118\n",
       "ARSON                                   88\n",
       "LIQUOR LAW VIOLATION                    72\n",
       "KIDNAPPING                              66\n",
       "HOMICIDE                                62\n",
       "STALKING                                26\n",
       "INTIMIDATION                            25\n",
       "CONCEALED CARRY LICENSE VIOLATION        2\n",
       "HUMAN TRAFFICKING                        1\n",
       "OBSCENITY                                1\n",
       "Name: PrimaryType, dtype: int64"
      ]
     },
     "execution_count": 55,
     "metadata": {},
     "output_type": "execute_result"
    }
   ],
   "source": [
    "# Get the location and primary types\n",
    "df11 = df[['Location', 'PrimaryType']].fillna('')\n",
    "\n",
    "# Get the locations with at least 1000 complaints\n",
    "mask_locations = (df11['Location'].value_counts() >= 1000)\n",
    "\n",
    "def over1000(e):\n",
    "    return mask_locations[e]\n",
    "\n",
    "# Create a mask of those locations\n",
    "mask_in = (df11['Location'].map(over1000))\n",
    "\n",
    "# Apply the mask and get the most frequent Primary Types\n",
    "df11[mask_in]['PrimaryType'].value_counts()"
   ]
  },
  {
   "cell_type": "markdown",
   "metadata": {},
   "source": [
    "## [Q12 6 points] Among all offenses with the word THEFT in the description, select the ones that occur at least 5 times, and sort them in descending order of the fraction of arrests for that offense."
   ]
  },
  {
   "cell_type": "code",
   "execution_count": 60,
   "metadata": {},
   "outputs": [
    {
     "name": "stdout",
     "output_type": "stream",
     "text": [
      "DECEPTIVE PRACTICE     0.275580\n",
      "THEFT                  0.168264\n",
      "MOTOR VEHICLE THEFT    0.086379\n",
      "Name: PrimaryType, dtype: float64\n"
     ]
    }
   ],
   "source": [
    "def theft(e):\n",
    "    return 'THEFT' in e.upper()\n",
    "\n",
    "# Create a mask for the theft\n",
    "mask_theft = df['Description'].map(theft)\n",
    "df12 = df[mask_theft]\n",
    "\n",
    "# Get the primary types\n",
    "series_pt_vc = df12['PrimaryType'].value_counts()\n",
    "\n",
    "# Get Primary Types that occur at least 5 times\n",
    "mask_pt = (series_pt_vc >= 5)\n",
    "series_pt_vc[mask_pt]\n",
    "\n",
    "# Get the total number of arrest for that offense\n",
    "series_total = df['PrimaryType'].value_counts()\n",
    "\n",
    "print (series_pt_vc / series_total).dropna().sort_values(ascending=False)"
   ]
  },
  {
   "cell_type": "markdown",
   "metadata": {},
   "source": [
    "## [Q13 10 points] Use a Logistic Regression classifier to predict Arrest using PrimaryType and Domestic. Split the data into 70% train and 30% test. Report accuracy on the test set. Also report accuracy of the baseline classifier on the test set."
   ]
  },
  {
   "cell_type": "code",
   "execution_count": 68,
   "metadata": {},
   "outputs": [
    {
     "name": "stdout",
     "output_type": "stream",
     "text": [
      "Baseline: 0.715972574911\n",
      "Model: 0.8586996773\n"
     ]
    }
   ],
   "source": [
    "from patsy import dmatrices\n",
    "from sklearn.model_selection import train_test_split\n",
    "from sklearn.linear_model import LogisticRegression\n",
    "from sklearn import metrics\n",
    "\n",
    "# Get the baseline\n",
    "mask_arrest = (df['Arrest'] == 0)\n",
    "baseline = float(len(df[mask_arrest])) / float(len(df))\n",
    "print 'Baseline: ' + str(baseline)\n",
    "\n",
    "# Create the formula\n",
    "formula = 'Arrest ~ 0 + PrimaryType + Domestic'\n",
    "\n",
    "# Get the design matrices\n",
    "Y, X = dmatrices(formula, df, return_type='dataframe')\n",
    "y = Y['Arrest'].values\n",
    "\n",
    "# Split the training and testing data\n",
    "X_train, X_test, y_train, y_test = train_test_split(X, y, test_size=0.3, random_state=1)\n",
    "\n",
    "# Build the model\n",
    "model = LogisticRegression()\n",
    "result = model.fit(X_train, y_train)\n",
    "\n",
    "# Test on the training \n",
    "prediction = model.predict(X_test)\n",
    "print 'Model: ' + str(metrics.accuracy_score(y_test, prediction))"
   ]
  },
  {
   "cell_type": "markdown",
   "metadata": {},
   "source": [
    "## [Q14 5 points] Using the results of Logistic Regression above, find the top 5 features that indicate lower chances of Arrest, and the top 5 indicating highest chances of Arrest."
   ]
  },
  {
   "cell_type": "code",
   "execution_count": 72,
   "metadata": {},
   "outputs": [
    {
     "name": "stdout",
     "output_type": "stream",
     "text": [
      "PrimaryType[BURGLARY]              -2.709467\n",
      "PrimaryType[CRIMINAL DAMAGE]       -2.299872\n",
      "PrimaryType[ROBBERY]               -2.184952\n",
      "PrimaryType[MOTOR VEHICLE THEFT]   -1.990109\n",
      "PrimaryType[THEFT]                 -1.861288\n",
      "dtype: float64\n",
      "\n",
      "PrimaryType[NARCOTICS]                           5.072023\n",
      "PrimaryType[PROSTITUTION]                        4.532135\n",
      "PrimaryType[LIQUOR LAW VIOLATION]                3.463085\n",
      "PrimaryType[GAMBLING]                            3.404301\n",
      "PrimaryType[INTERFERENCE WITH PUBLIC OFFICER]    2.250300\n",
      "dtype: float64\n"
     ]
    }
   ],
   "source": [
    "# Get the weights of each feature\n",
    "weights = Series(model.coef_[0], index=X.columns.values)\n",
    "print weights.sort_values()[:5]\n",
    "print\n",
    "print weights.sort_values(ascending=False)[:5]"
   ]
  }
 ],
 "metadata": {
  "anaconda-cloud": {},
  "kernelspec": {
   "display_name": "Python 2",
   "language": "python",
   "name": "python2"
  },
  "language_info": {
   "codemirror_mode": {
    "name": "ipython",
    "version": 2
   },
   "file_extension": ".py",
   "mimetype": "text/x-python",
   "name": "python",
   "nbconvert_exporter": "python",
   "pygments_lexer": "ipython2",
   "version": "2.7.14"
  }
 },
 "nbformat": 4,
 "nbformat_minor": 2
}
