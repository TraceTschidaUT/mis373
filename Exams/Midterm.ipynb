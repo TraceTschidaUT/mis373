{
 "cells": [
  {
   "cell_type": "code",
   "execution_count": 106,
   "metadata": {},
   "outputs": [
    {
     "name": "stdout",
     "output_type": "stream",
     "text": [
      "Populating the interactive namespace from numpy and matplotlib\n"
     ]
    }
   ],
   "source": [
    "from pandas import Series, DataFrame\n",
    "import pandas as pd\n",
    "%pylab inline"
   ]
  },
  {
   "cell_type": "markdown",
   "metadata": {},
   "source": [
    "---\n",
    "There are 10 questions, adding up to 100 points.\n",
    "\n",
    "* Please SAVE your work continuously.\n",
    "* When you are not sure if your code works, leave comments about what you are trying to do. Make it easy for me to give partial credit :-)\n",
    "\n",
    "Best of luck!\n",
    "\n",
    "---"
   ]
  },
  {
   "cell_type": "markdown",
   "metadata": {},
   "source": [
    "### [Q1 5 points] Read in the file traffic.csv into a dataframe."
   ]
  },
  {
   "cell_type": "code",
   "execution_count": 107,
   "metadata": {},
   "outputs": [
    {
     "name": "stdout",
     "output_type": "stream",
     "text": [
      "   ID  Segment ID  Roadway Name        From            To Direction  \\\n",
      "0   1        2153  HUGUENOT AVE  WOODROW RD  STAFFORD AVE        NB   \n",
      "1   1        2153  HUGUENOT AVE  WOODROW RD  STAFFORD AVE        NB   \n",
      "2   1        2153  HUGUENOT AVE  WOODROW RD  STAFFORD AVE        NB   \n",
      "3   1        2153  HUGUENOT AVE  WOODROW RD  STAFFORD AVE        NB   \n",
      "4   1        2153  HUGUENOT AVE  WOODROW RD  STAFFORD AVE        NB   \n",
      "\n",
      "         Date           Time  Count  Time 24 hr  \n",
      "0  02/02/2013  12:00-1:00 AM  106.0           0  \n",
      "1  02/02/2013    1:00-2:00AM   74.0           1  \n",
      "2  02/02/2013    2:00-3:00AM   45.0           2  \n",
      "3  02/02/2013    3:00-4:00AM   29.0           3  \n",
      "4  02/02/2013    4:00-5:00AM   29.0           4  \n"
     ]
    }
   ],
   "source": [
    "df = pd.read_csv('traffic.csv')\n",
    "print df[:5]"
   ]
  },
  {
   "cell_type": "markdown",
   "metadata": {},
   "source": [
    "### [Q2 7 points] Print the rows where the Count is at least 75% of the maximum traffic Count."
   ]
  },
  {
   "cell_type": "code",
   "execution_count": 108,
   "metadata": {},
   "outputs": [
    {
     "name": "stdout",
     "output_type": "stream",
     "text": [
      "        ID  Segment ID    Roadway Name           From             To  \\\n",
      "83623  238       70873  AMSTERDAM AVE    WEST 164 ST    WEST 165 ST    \n",
      "83624  238       70873  AMSTERDAM AVE    WEST 164 ST    WEST 165 ST    \n",
      "83647  238       70873  AMSTERDAM AVE    WEST 164 ST    WEST 165 ST    \n",
      "83648  238       70873  AMSTERDAM AVE    WEST 164 ST    WEST 165 ST    \n",
      "\n",
      "      Direction        Date         Time    Count  Time 24 hr  \n",
      "83623        NB  09/30/2012  7:00-8:00AM  9112.83           7  \n",
      "83624        NB  09/30/2012  8:00-9:00AM  7216.50           8  \n",
      "83647        NB  10/01/2012  7:00-8:00AM  9226.33           7  \n",
      "83648        NB  10/01/2012  8:00-9:00AM  7302.00           8  \n"
     ]
    }
   ],
   "source": [
    "# Get the max traffic counts\n",
    "max_counts = df['Count'].max()\n",
    "\n",
    "# Get 75% of the maximum counts\n",
    "max_75_percent_count = max_counts * 0.75\n",
    "\n",
    "# Mask for where count is >= 75% of max count\n",
    "mask_75_count = (df['Count'] >= max_75_percent_count)\n",
    "\n",
    "\n",
    "# Apply the mask and print the rows\n",
    "rows_75_count = df[mask_75_count]\n",
    "\n",
    "print rows_75_count"
   ]
  },
  {
   "cell_type": "markdown",
   "metadata": {},
   "source": [
    "### [Q3 7 points] Which Segment ID shows up the fewest times in the dataset?"
   ]
  },
  {
   "cell_type": "code",
   "execution_count": 109,
   "metadata": {},
   "outputs": [
    {
     "name": "stdout",
     "output_type": "stream",
     "text": [
      "43527\n"
     ]
    }
   ],
   "source": [
    "# Get a eries of the Id Segments\n",
    "series_segment_id = df['Segment ID']\n",
    "\n",
    "# Get the value counts for the segments\n",
    "series_segment_counts = series_segment_id.value_counts()\n",
    "\n",
    "# Print the smallest value counts's index through idxmin \n",
    "print series_segment_counts.idxmin()"
   ]
  },
  {
   "cell_type": "markdown",
   "metadata": {},
   "source": [
    "### [Q4 11 points] How many distinct months show up in the data?\n",
    "\n",
    "A row with a date of \"02/03/2013\" means that the month \"02\" shows up in the data. You need to output the number of distinct months in the data. (Obviously this can be at most 12, but perhaps it is less?)"
   ]
  },
  {
   "cell_type": "code",
   "execution_count": 110,
   "metadata": {},
   "outputs": [
    {
     "name": "stdout",
     "output_type": "stream",
     "text": [
      "6\n"
     ]
    }
   ],
   "source": [
    "def monthsOnly(s):\n",
    "    '''s is a string with the first two elements representing the month'''\n",
    "    # return only the month part of the string\n",
    "    return s[:2]\n",
    "\n",
    "# Get a series with the dates\n",
    "series_dates = df['Date']\n",
    "\n",
    "# Get just the months\n",
    "series_month = series_dates.map(monthsOnly)\n",
    "\n",
    "# Get just the unique months\n",
    "series_unique_months = series_month.unique()\n",
    "\n",
    "# Print the length of the series of unique months\n",
    "print len(series_unique_months)"
   ]
  },
  {
   "cell_type": "markdown",
   "metadata": {},
   "source": [
    "### [Q5 11 points] Top suffixes of roadway names.\n",
    "\n",
    "Let's call the last word of a roadway name the \"suffix\" of the roadway name. For example,\n",
    "\n",
    "* the suffix of \"5 AVENUE\" is \"AVENUE\"\n",
    "* the suffix of \"BROADWAY\" is \"BROADWAY\"\n",
    "* the suffix of \"ATLANTIC AVE\" is \"AVE\"\n",
    "\n",
    "For each unique roadway name, figure out its suffix. Find the suffixes that occur at least 10 times (i.e., they are the suffix for at least 10 unique roadway names)."
   ]
  },
  {
   "cell_type": "code",
   "execution_count": 111,
   "metadata": {},
   "outputs": [
    {
     "name": "stdout",
     "output_type": "stream",
     "text": [
      "AVE       72\n",
      "AVENUE    55\n",
      "STREET    54\n",
      "ROAD      17\n",
      "ST        14\n",
      "BLVD      11\n",
      "Name: Roadway Name, dtype: int64\n"
     ]
    }
   ],
   "source": [
    "def roadwayOnly(s):\n",
    "    '''s is a string that represents a roadway name'''\n",
    "    \n",
    "    # The suffix is always the last part of the string\n",
    "    return s.split()[-1]\n",
    "\n",
    "# Get a series of only the unique roadway names\n",
    "series_roadways = df['Roadway Name'].drop_duplicates()\n",
    "\n",
    "# Get only the suffixes\n",
    "series_road_suffixes = series_roadways.map(roadwayOnly)\n",
    "\n",
    "# Get the value counts for each suffix \n",
    "series_suffix_counts = series_road_suffixes.value_counts()\n",
    "\n",
    "# Create a mask for values >=10\n",
    "mask_atleast_10_suffix = (series_suffix_counts >= 10)\n",
    "\n",
    "# Apply the mask and print the results\n",
    "print series_suffix_counts[mask_atleast_10_suffix]"
   ]
  },
  {
   "cell_type": "markdown",
   "metadata": {},
   "source": [
    "### [Q6 11 points] Most common pair of intersections\n",
    "\n",
    "Create a column called \"From To\" combining information from both fields. For example,\n",
    "\n",
    "* If \"From\" is \"WOORDROW RD\", and \"To\" is \"STAFFORD AVE\", then the \"From To\" column should be \"WOODROW RD to STAFFORD AVE\"\n",
    "\n",
    "Now, figure out the \"From To\" pair that shows up for the most number of Roadway Names."
   ]
  },
  {
   "cell_type": "code",
   "execution_count": 112,
   "metadata": {},
   "outputs": [
    {
     "name": "stdout",
     "output_type": "stream",
     "text": [
      " EAST 172 STREET   to  EAST MT EDEN AVENUE \n"
     ]
    }
   ],
   "source": [
    "# Create a new column with string concatentation \n",
    "df['From To'] = df['From'] + ' to ' + df['To']\n",
    "\n",
    "# Create a df with Roadway and From To\n",
    "df_roadway_from_to = df[['Roadway Name', 'From To']]\n",
    "\n",
    "# Get only the unique roadway names\n",
    "df_unique_roadway_fromto = df_roadway_from_to.drop_duplicates('Roadway Name')\n",
    "\n",
    "# Get the value counts of FromTo\n",
    "series_fromto_counts = df_unique_roadway_fromto['From To'].value_counts()\n",
    "\n",
    "# Print the max index\n",
    "print series_fromto_counts.idxmax()"
   ]
  },
  {
   "cell_type": "markdown",
   "metadata": {},
   "source": [
    "### [Q7 11 points] Plot the top 10 Roadway Names with the most number of segments.\n",
    "\n",
    "The plot's x-axis should be the roadway name, and the y-axis should be the number of segments associated with that Roadway Name.\n",
    "\n",
    "Note: It's okay to have \"BROADWAY\" and \"BROADWAY \" (with the space) as different roadways."
   ]
  },
  {
   "cell_type": "code",
   "execution_count": 113,
   "metadata": {},
   "outputs": [
    {
     "data": {
      "text/plain": [
       "<matplotlib.axes._subplots.AxesSubplot at 0xe04b9b0>"
      ]
     },
     "execution_count": 113,
     "metadata": {},
     "output_type": "execute_result"
    },
    {
     "data": {
      "image/png": "[encoded data removed]",
      "text/plain": [
       "<matplotlib.figure.Figure at 0x110eaf98>"
      ]
     },
     "metadata": {},
     "output_type": "display_data"
    }
   ],
   "source": [
    "# Get the unique roadway and segment pairs\n",
    "df_roadway_segments = df[['Roadway Name', 'Segment ID']].drop_duplicates()\n",
    "\n",
    "# Get the value counts of the Roadway Name\n",
    "series_roadway_counts = df_roadway_segments['Roadway Name'].value_counts()\n",
    "\n",
    "# Plot the top 10\n",
    "series_roadway_counts[:10].plot(kind='bar')"
   ]
  },
  {
   "cell_type": "markdown",
   "metadata": {},
   "source": [
    "### [Q8 11 points] Plot the traffic volumes for BROADWAY and 5 AVENUE.\n",
    "\n",
    "For each of these two roadways, get the average traffic counts for each \"Time 24 hr\" (averaged over all segments, and all directions). Now, create one plot where the x-axis is \"Time 24 hr\" and the y-axis is the average traffic count. Show the patterns for these roadways in the same plot."
   ]
  },
  {
   "cell_type": "code",
   "execution_count": 114,
   "metadata": {},
   "outputs": [
    {
     "data": {
      "text/plain": [
       "<matplotlib.axes._subplots.AxesSubplot at 0xe046b00>"
      ]
     },
     "execution_count": 114,
     "metadata": {},
     "output_type": "execute_result"
    },
    {
     "data": {
      "image/png": "[encoded data removed]",
      "text/plain": [
       "<matplotlib.figure.Figure at 0xfce1d68>"
      ]
     },
     "metadata": {},
     "output_type": "display_data"
    }
   ],
   "source": [
    "# Get only the two roadways\n",
    "df_roadway_index = df.set_index('Roadway Name')\n",
    "\n",
    "# Get only Boradway and 5 Ave\n",
    "df_broadway_5ave = df_roadway_index.loc[['BROADWAY', '5 AVENUE']].reset_index()\n",
    "\n",
    "# Create a pivot table with the counts as the value\n",
    "pt_24time = pd.pivot_table(df_broadway_5ave, index='Roadway Name', columns='Time 24 hr', values='Count', aggfunc=sum)\n",
    "\n",
    "# Plot the patterns\n",
    "pt_24time.T.plot()"
   ]
  },
  {
   "cell_type": "markdown",
   "metadata": {},
   "source": [
    "### [Q9 11 points] How many one-ways?\n",
    "\n",
    "Let's say a one-way is a \"From To\" pair associated with only one \"Direction.\" How many such one-way pairs are there?"
   ]
  },
  {
   "cell_type": "code",
   "execution_count": 115,
   "metadata": {},
   "outputs": [
    {
     "name": "stdout",
     "output_type": "stream",
     "text": [
      "122\n"
     ]
    }
   ],
   "source": [
    "# Get the fromto and direction\n",
    "df_fromto_direction =  df[['Direction', 'From To']].drop_duplicates()\n",
    "\n",
    "# The From To that only appears once means that there is only one direction\n",
    "series_fromto_direction_counts = df_fromto_direction['From To'].value_counts()\n",
    "\n",
    "# Create a mask for the the values that only appear once\n",
    "mask_one_direction = (series_fromto_direction_counts == 1)\n",
    "\n",
    "# Apply the mask\n",
    "series_fromto_one_way = series_fromto_direction_counts[mask_one_direction]\n",
    "\n",
    "# Print the number (len()) in the series\n",
    "print len(series_fromto_one_way)"
   ]
  },
  {
   "cell_type": "markdown",
   "metadata": {},
   "source": [
    "### [Q10 15 points] Peak traffic\n",
    "\n",
    "* For each Roadway Name, aggregate the total traffic for each date (i.e., add up all traffic counts at all From/To pairs at all hours of the day).\n",
    "* Then, for each Roadway Name, compute the ratio of the maximum to the minimum traffic. For example:\n",
    "    * If total traffic on BROADWAY is 100 (Jan 1), 200, (Jan 2), 50 (Jan 3), and missing on all other days, then the ratio is 200/50 = 4.0\n",
    "* Find the top 10 roads with the highest ratios of maximum to minimum traffic."
   ]
  },
  {
   "cell_type": "code",
   "execution_count": 116,
   "metadata": {},
   "outputs": [
    {
     "name": "stdout",
     "output_type": "stream",
     "text": [
      "Roadway Name\n",
      "10 AVENUE                27.502771\n",
      " VERMONT PLACE           25.125874\n",
      "7 AVENUE                 19.889966\n",
      " VAN WYCK EXPRESSWAY     12.933715\n",
      "150th ST                 12.088206\n",
      "8 AVENUE                 12.007243\n",
      " JAMAICA AVENUE          10.012735\n",
      " ATLANTIC AVENUE          8.986712\n",
      "BROADWAY                  8.356310\n",
      "LIBERTY AVE               8.149518\n",
      "dtype: float64\n"
     ]
    }
   ],
   "source": [
    "# Create a pivot table for raodway name and dates with the counts as the vaue\n",
    "pt_peak = pd.pivot_table(df, index='Date', columns='Roadway Name', values='Count', aggfunc=sum)\n",
    "\n",
    "# Function for dataframes\n",
    "def ratio(s):\n",
    "    '''s is a series of counts for each street'''\n",
    "    return s.max() / s.min()\n",
    "\n",
    "# Get a series of the roadway ratios\n",
    "series_roadway_ratios = pt_peak.apply(ratio)\n",
    "\n",
    "# Sort the ratios in descending order (most traffic)\n",
    "series_top_10_traffic = series_roadway_ratios.sort_values(ascending=False)\n",
    "\n",
    "# Print the top 10\n",
    "print series_top_10_traffic[:10]"
   ]
  },
  {
   "cell_type": "code",
   "execution_count": null,
   "metadata": {},
   "outputs": [],
   "source": []
  }
 ],
 "metadata": {
  "kernelspec": {
   "display_name": "Python 2",
   "language": "python",
   "name": "python2"
  },
  "language_info": {
   "codemirror_mode": {
    "name": "ipython",
    "version": 2
   },
   "file_extension": ".py",
   "mimetype": "text/x-python",
   "name": "python",
   "nbconvert_exporter": "python",
   "pygments_lexer": "ipython2",
   "version": "2.7.14"
  }
 },
 "nbformat": 4,
 "nbformat_minor": 2
}
