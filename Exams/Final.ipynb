{
 "cells": [
  {
   "cell_type": "code",
   "execution_count": 1,
   "metadata": {},
   "outputs": [
    {
     "name": "stdout",
     "output_type": "stream",
     "text": [
      "Populating the interactive namespace from numpy and matplotlib\n"
     ]
    }
   ],
   "source": [
    "from pandas import Series, DataFrame\n",
    "import pandas as pd\n",
    "%pylab inline"
   ]
  },
  {
   "cell_type": "markdown",
   "metadata": {},
   "source": [
    "### [Q1 10 points] Classify green from red\n",
    "\n",
    "![splotches](splotches.png)\n",
    "\n",
    "Consider the above classification problem. For each question below, answer using a percentage or a fraction, and give a brief justification. You may assume that each splotch has the same number of points.\n",
    "\n",
    "#### (a) What accuracy can a decision tree get on this data?"
   ]
  },
  {
   "cell_type": "markdown",
   "metadata": {},
   "source": [
    "100% - The decision tree could get 100% but would have to split multiple times both vertically and horizontally making the tree very deep. The first split could either be on either the x or y-axis around +/- 5 splitting the plot in roughly 2/3rds. Then the tree would split based on the groupings of the 2 reds and 2 greens based on both features to classify at around +/- 5 on each axis or for each feature. "
   ]
  },
  {
   "cell_type": "markdown",
   "metadata": {},
   "source": [
    "#### (b) What accuracy can logistic regression get on this data?"
   ]
  },
  {
   "cell_type": "markdown",
   "metadata": {},
   "source": [
    "5/8 - The logistic regression cannot make one single split that would get everything correct. The best option is either a linear vertical line around +/- 5 or a linear horizontal line around +/- 5. Either case results in getting 5/8th of the options correct by classifying red or green for either side of the line depending on the split. So if you were to do a linear separator at around +5 on the x-axis, the right side would choose green, and the left side would choose red for classification becuase there are more green on the right and more red of the left."
   ]
  },
  {
   "cell_type": "markdown",
   "metadata": {},
   "source": [
    "---\n",
    "The **Collisions** dataset contains 30K accident reports.\n",
    "* It lists the BOROUGH, ZIP CODE, LATITUDE, and LONGITUDE of the accident.\n",
    "* It also provides the street name (ON STREET NAME), and the cross street if applicable (CROSS STREET NAME).\n",
    "* It provides counts of the number of cyclists/pedestrians/motorists that were injured or killed. These are also fields for \"NUMBER OF PERSONS INJURED\" and \"NUMBER OF PERSONS KILLED.\"\n",
    "* It provides the types of vehicles, and the factors that contributed to the accident. It allows for up to 5-vehicle collisions, so there are 5 vehicle-type fields and 5 contributing-factor fields."
   ]
  },
  {
   "cell_type": "code",
   "execution_count": 2,
   "metadata": {},
   "outputs": [],
   "source": [
    "df = pd.read_csv('Collisions.csv', dtype={'ZIP CODE':'str', 'ON STREET NAME':'str'}, parse_dates=['Date'])"
   ]
  },
  {
   "cell_type": "markdown",
   "metadata": {},
   "source": [
    "### [Q2 3 points] Print out the first row of the dataframe"
   ]
  },
  {
   "cell_type": "code",
   "execution_count": 3,
   "metadata": {},
   "outputs": [
    {
     "name": "stdout",
     "output_type": "stream",
     "text": [
      "Date                                          2018-05-01 00:00:00\n",
      "BOROUGH                                                     BRONX\n",
      "ZIP CODE                                                    10473\n",
      "LATITUDE                                                  40.8256\n",
      "LONGITUDE                                                -73.8649\n",
      "LOCATION                                   (40.825596, -73.86492)\n",
      "ON STREET NAME                   BRUCKNER BOULEVARD              \n",
      "CROSS STREET NAME                                    BEACH AVENUE\n",
      "OFF STREET NAME                                               NaN\n",
      "NUMBER OF PERSONS INJURED                                       0\n",
      "NUMBER OF PERSONS KILLED                                        0\n",
      "NUMBER OF PEDESTRIANS INJURED                                   0\n",
      "NUMBER OF PEDESTRIANS KILLED                                    0\n",
      "NUMBER OF CYCLIST INJURED                                       0\n",
      "NUMBER OF CYCLIST KILLED                                        0\n",
      "NUMBER OF MOTORIST INJURED                                      0\n",
      "NUMBER OF MOTORIST KILLED                                       0\n",
      "CONTRIBUTING FACTOR VEHICLE 1      Passing or Lane Usage Improper\n",
      "CONTRIBUTING FACTOR VEHICLE 2                         Unspecified\n",
      "CONTRIBUTING FACTOR VEHICLE 3                                 NaN\n",
      "CONTRIBUTING FACTOR VEHICLE 4                                 NaN\n",
      "CONTRIBUTING FACTOR VEHICLE 5                                 NaN\n",
      "UNIQUE KEY                                                3891957\n",
      "VEHICLE TYPE CODE 1                             PASSENGER VEHICLE\n",
      "VEHICLE TYPE CODE 2                                 PICK-UP TRUCK\n",
      "VEHICLE TYPE CODE 3                                           NaN\n",
      "VEHICLE TYPE CODE 4                                           NaN\n",
      "VEHICLE TYPE CODE 5                                           NaN\n",
      "Name: 0, dtype: object\n"
     ]
    }
   ],
   "source": [
    "print df.iloc[0]"
   ]
  },
  {
   "cell_type": "markdown",
   "metadata": {},
   "source": [
    "### [Q3 3 points] Set the index of the dataframe to the Date column.\n",
    "\n",
    "Make sure the dataframe is properly modified, and you don't just change a copy!"
   ]
  },
  {
   "cell_type": "code",
   "execution_count": 4,
   "metadata": {
    "collapsed": true
   },
   "outputs": [],
   "source": [
    "df.set_index('Date', inplace=True)"
   ]
  },
  {
   "cell_type": "markdown",
   "metadata": {},
   "source": [
    "### [Q4 5 points] For how many accidents is the NUMBER OF PERSONS INJURED _not equal to_ the sum of NUMBER OF PEDESTRIANS INJURED, NUMBER OF CYCLIST INJURED, and NUMBER OF MOTORIST INJURED?"
   ]
  },
  {
   "cell_type": "code",
   "execution_count": 5,
   "metadata": {},
   "outputs": [
    {
     "name": "stdout",
     "output_type": "stream",
     "text": [
      "25\n"
     ]
    }
   ],
   "source": [
    "# Get the sum of injured\n",
    "df['totalInjured'] = df['NUMBER OF PEDESTRIANS INJURED'] + df['NUMBER OF CYCLIST INJURED'] + df['NUMBER OF MOTORIST INJURED']\n",
    "\n",
    "# Create a mask and compare the number of injuries\n",
    "mask_injured = (df['NUMBER OF PERSONS INJURED'] != df['totalInjured'])\n",
    "df_notEqual = df[mask_injured]\n",
    "\n",
    "# Print the number of rows in the new df\n",
    "print len(df_notEqual)"
   ]
  },
  {
   "cell_type": "markdown",
   "metadata": {},
   "source": [
    "### [Q5 5 points] What's the maximum number of people injured+killed in any one accident?\n",
    "\n",
    "You only need to consider the NUMBER OF PERSONS INJURED and NUMBER OF PERSONS KILLED fields."
   ]
  },
  {
   "cell_type": "code",
   "execution_count": 6,
   "metadata": {},
   "outputs": [
    {
     "name": "stdout",
     "output_type": "stream",
     "text": [
      "22\n"
     ]
    }
   ],
   "source": [
    "# Create a new column for max injured and killed\n",
    "df['maxPeople'] = df['NUMBER OF PERSONS INJURED'] + df['NUMBER OF PERSONS KILLED']\n",
    "\n",
    "print df['maxPeople'].max()"
   ]
  },
  {
   "cell_type": "markdown",
   "metadata": {},
   "source": [
    "### [Q6 5 points] For each BOROUGH, find the ON STREET NAME with the most accidents."
   ]
  },
  {
   "cell_type": "code",
   "execution_count": 7,
   "metadata": {},
   "outputs": [
    {
     "name": "stdout",
     "output_type": "stream",
     "text": [
      "                BOROUGH      \n",
      "ON STREET NAME  BRONX            BRUCKNER BOULEVARD              \n",
      "                BROOKLYN         ATLANTIC AVENUE                 \n",
      "                MANHATTAN        2 AVENUE                        \n",
      "                QUEENS           NORTHERN BOULEVARD              \n",
      "                STATEN ISLAND    HYLAN BOULEVARD                 \n",
      "dtype: object\n"
     ]
    }
   ],
   "source": [
    "# Groupby the boro and find the idxmax\n",
    "print df.groupby(['BOROUGH', 'ON STREET NAME'])[['ON STREET NAME']].count().unstack('BOROUGH').idxmax()"
   ]
  },
  {
   "cell_type": "markdown",
   "metadata": {},
   "source": [
    "### [Q7 5 points] For each unique VEHICLE TYPE CODE 1, count the number of times a vehicle of that type hit another another vehicle of the same type (VEHICLE TYPE CODE 2).\n",
    "\n",
    "It's okay to leave \"van,\" \"Van,\" and \"VAN\" as separate vehicles."
   ]
  },
  {
   "cell_type": "code",
   "execution_count": 8,
   "metadata": {},
   "outputs": [
    {
     "name": "stdout",
     "output_type": "stream",
     "text": [
      "9006\n"
     ]
    }
   ],
   "source": [
    "# Create a mask for where the vehicles codes type 1 & 2 match\n",
    "mask_code = (df['VEHICLE TYPE CODE 1'] == df['VEHICLE TYPE CODE 2'])\n",
    "df_match = df[mask_code]\n",
    "print len(df_match)"
   ]
  },
  {
   "cell_type": "markdown",
   "metadata": {},
   "source": [
    "### [Q8 6 points] How many ON STREET NAMEs show up with multiple ZIP CODEs?"
   ]
  },
  {
   "cell_type": "code",
   "execution_count": 9,
   "metadata": {},
   "outputs": [
    {
     "name": "stdout",
     "output_type": "stream",
     "text": [
      "6356\n"
     ]
    }
   ],
   "source": [
    "# Drop the duplicate ON STREET NAMEs and ZIPCODE\n",
    "df_8 = df[['ON STREET NAME', 'ZIP CODE']]\n",
    "print len(df_8.drop_duplicates(['ON STREET NAME', 'ZIP CODE']))"
   ]
  },
  {
   "cell_type": "markdown",
   "metadata": {},
   "source": [
    "### [Q9 6 points] Plot the frequencies of the top 10 most common CONTRIBUTING FACTOR VEHICLE 1.\n",
    "\n",
    "Get rid of any \"Unspecified\" in the plot."
   ]
  },
  {
   "cell_type": "code",
   "execution_count": 10,
   "metadata": {},
   "outputs": [
    {
     "data": {
      "text/plain": [
       "<matplotlib.axes._subplots.AxesSubplot at 0xdb83668>"
      ]
     },
     "execution_count": 10,
     "metadata": {},
     "output_type": "execute_result"
    },
    {
     "data": {
      "image/png": "[encoded data removed]",
      "text/plain": [
       "<matplotlib.figure.Figure at 0xa883eb8>"
      ]
     },
     "metadata": {},
     "output_type": "display_data"
    }
   ],
   "source": [
    "# Mask the unspecified and take the value counts\n",
    "mask_unspecified = (df['CONTRIBUTING FACTOR VEHICLE 1'] != 'Unspecified')\n",
    "df[mask_unspecified]['CONTRIBUTING FACTOR VEHICLE 1'].value_counts()[:10].plot(kind='bar')"
   ]
  },
  {
   "cell_type": "markdown",
   "metadata": {},
   "source": [
    "### [Q10 6 points] Find the ON STREET NAMEs that appear in more than 3 BOROUGHs.\n",
    "\n",
    "Ignore situations where the BOROUGH or ON STREET NAME is missing."
   ]
  },
  {
   "cell_type": "code",
   "execution_count": 11,
   "metadata": {},
   "outputs": [
    {
     "name": "stdout",
     "output_type": "stream",
     "text": [
      "BOROUGH                           BRONX  BROOKLYN  MANHATTAN  QUEENS  \\\n",
      "ON STREET NAME                                                         \n",
      "BROADWAY                           10.0      27.0       90.0    24.0   \n",
      "FRANKLIN AVENUE                     1.0       6.0        NaN     5.0   \n",
      "PRINCE STREET                       NaN       2.0        2.0     4.0   \n",
      "\n",
      "BOROUGH                           STATEN ISLAND  \n",
      "ON STREET NAME                                   \n",
      "BROADWAY                                    8.0  \n",
      "FRANKLIN AVENUE                             1.0  \n",
      "PRINCE STREET                               1.0  \n"
     ]
    }
   ],
   "source": [
    "# Groupby the boro and street name\n",
    "df_10 = df.groupby(['BOROUGH', 'ON STREET NAME'])[['ON STREET NAME']].count().unstack('ON STREET NAME')\n",
    "\n",
    "\n",
    "def count(s):\n",
    "    '''Takes in a series and returns if the count > 3'''\n",
    "    return s.count() > 3\n",
    "\n",
    "mask_3boros = df_10.apply(count)\n",
    "\n",
    "print df_10.T[mask_3boros].loc['ON STREET NAME']"
   ]
  },
  {
   "cell_type": "markdown",
   "metadata": {},
   "source": [
    "### [Q11 6 points] Plot the average number of persons injured per accident over each day, for all days in March, April, and May, 2018."
   ]
  },
  {
   "cell_type": "code",
   "execution_count": 12,
   "metadata": {},
   "outputs": [
    {
     "data": {
      "text/plain": [
       "<matplotlib.axes._subplots.AxesSubplot at 0xab5cf28>"
      ]
     },
     "execution_count": 12,
     "metadata": {},
     "output_type": "execute_result"
    },
    {
     "data": {
      "image/png": "[encoded data removed]",
      "text/plain": [
       "<matplotlib.figure.Figure at 0xaaa4780>"
      ]
     },
     "metadata": {},
     "output_type": "display_data"
    }
   ],
   "source": [
    "# Get the data for only those months\n",
    "dates = pd.date_range(start='3/1/2018',end='5/31/2018',freq='D')\n",
    "\n",
    "# Resample the data and take the mean\n",
    "df.loc[dates]['NUMBER OF PERSONS INJURED'].resample('D', kind='period').mean().plot()"
   ]
  },
  {
   "cell_type": "markdown",
   "metadata": {},
   "source": [
    "### [Q12 8 points] Plot accident locations, color-coded by BOROUGH.\n",
    "\n",
    "Show a scatter plot of all accident locations (x-axis is LONGITUDE, y-axis is LATITUDE). \n",
    "\n",
    "* Each point should be color coded by the BOROUGH in which the accident occurred. For instance, you can use the following coding scheme: BRONX:0, MANHATTAN:1, QUEENS:2, STATEN ISLAN:3, BROOKLYN:4.\n",
    "* Only plot locations where LATITUDE is between 35 and 45, LONGITUDE is between -70 and -75, and BOROUGH is not missing.\n",
    "* You can use the colormap 'tab20'"
   ]
  },
  {
   "cell_type": "code",
   "execution_count": 13,
   "metadata": {},
   "outputs": [
    {
     "data": {
      "text/plain": [
       "<matplotlib.colorbar.Colorbar at 0xe3dc908>"
      ]
     },
     "execution_count": 13,
     "metadata": {},
     "output_type": "execute_result"
    },
    {
     "data": {
      "image/png": "[encoded data removed]",
      "text/plain": [
       "<matplotlib.figure.Figure at 0xab7d668>"
      ]
     },
     "metadata": {},
     "output_type": "display_data"
    }
   ],
   "source": [
    "# Create a mask for the lat and longs\n",
    "mask_lat_long = ((df['LATITUDE'] >= 35) & (df['LATITUDE'] <= 45) & (df['LONGITUDE'] >= -75) & (df['LONGITUDE'] <= -70))\n",
    "df_12 = df[mask_lat_long]\n",
    "\n",
    "# Drop missing boros\n",
    "df_12 = df_12.dropna(subset=['BOROUGH'])\n",
    "\n",
    "# Color code\n",
    "code = {'BRONX':0, 'MANHATTAN':1, 'QUEENS':2, 'STATEN ISLAND':3, 'BROOKLYN':4}\n",
    "def colorCode(e):\n",
    "        return code[e]\n",
    "\n",
    "df_12['color'] = df_12['BOROUGH'].map(colorCode)\n",
    "\n",
    "scatter(df_12['LATITUDE'], df_12['LONGITUDE'], c=df_12['color'], cmap='tab20')\n",
    "xlabel('Latitude')\n",
    "ylabel('Longitude')\n",
    "\n",
    "# Create a lenged based on the color coded inputes\n",
    "# Tried to do handles and lables for the legened() function but was unable to get it to work\n",
    "legend(['BRONX', 'MANHATTAN', 'QUEENS', 'STATEN ISLAND', 'BROOKLYN'])\n",
    "colorbar()"
   ]
  },
  {
   "cell_type": "markdown",
   "metadata": {},
   "source": [
    "### [Q13 8 points] Ratio of injured pedestrians to injured cyclists, for each BOROUGH.\n",
    "\n",
    "For each BOROUGH, find the ratio of total pedetrians injured to total cyclists injured. Lists the BOROUGHS and their ratios, in descending order of ratio."
   ]
  },
  {
   "cell_type": "code",
   "execution_count": 14,
   "metadata": {},
   "outputs": [
    {
     "name": "stdout",
     "output_type": "stream",
     "text": [
      "BOROUGH\n",
      "BRONX            4.588235\n",
      "QUEENS           4.137931\n",
      "STATEN ISLAND    3.333333\n",
      "BROOKLYN         2.701613\n",
      "MANHATTAN        2.017544\n",
      "Name: ratio, dtype: float64\n"
     ]
    }
   ],
   "source": [
    "# Group by the boro\n",
    "df_13 = df\n",
    "df_13 = df_13.groupby('BOROUGH')[['NUMBER OF PEDESTRIANS INJURED', 'NUMBER OF CYCLIST INJURED']].sum()\n",
    "\n",
    "# Add a ratio column\n",
    "df_13['ratio'] = df_13['NUMBER OF PEDESTRIANS INJURED'] / df_13['NUMBER OF CYCLIST INJURED']\n",
    "\n",
    "# Print in decsending order\n",
    "print df_13['ratio'].sort_values(ascending=False)"
   ]
  },
  {
   "cell_type": "markdown",
   "metadata": {},
   "source": [
    "---\n",
    "We're gonna play chess.\n",
    "\n",
    "Okay, only one specific endgame in chess, where the \"White\" player has a \"King\" and a \"Rook\", while the \"Black\" player has a \"King\" and a \"Pawn\" (we don't need to understand all this to answer the questions). \n",
    "\n",
    "The KingRookVersusKingPawn.csv dataset has 37 fields. The first 36 fields check whether the board position matches 36 different special characteristics. For instance, \"Posn 0\" can have values 'f' or 't'. (I have no idea what these positions mean, or what their values mean. We don't care.)\n",
    "\n",
    "The 37th field is the Result: whether the White player can win (\"won\"), or there is no way for White to win (\"nowin\")."
   ]
  },
  {
   "cell_type": "code",
   "execution_count": 15,
   "metadata": {},
   "outputs": [
    {
     "data": {
      "text/html": [
       "<div>\n",
       "<style>\n",
       "    .dataframe thead tr:only-child th {\n",
       "        text-align: right;\n",
       "    }\n",
       "\n",
       "    .dataframe thead th {\n",
       "        text-align: left;\n",
       "    }\n",
       "\n",
       "    .dataframe tbody tr th {\n",
       "        vertical-align: top;\n",
       "    }\n",
       "</style>\n",
       "<table border=\"1\" class=\"dataframe\">\n",
       "  <thead>\n",
       "    <tr style=\"text-align: right;\">\n",
       "      <th></th>\n",
       "      <th>Posn 0</th>\n",
       "      <th>Posn 1</th>\n",
       "      <th>Posn 2</th>\n",
       "      <th>Posn 3</th>\n",
       "      <th>Posn 4</th>\n",
       "      <th>Posn 5</th>\n",
       "      <th>Posn 6</th>\n",
       "      <th>Posn 7</th>\n",
       "      <th>Posn 8</th>\n",
       "      <th>Posn 9</th>\n",
       "      <th>...</th>\n",
       "      <th>Posn 27</th>\n",
       "      <th>Posn 28</th>\n",
       "      <th>Posn 29</th>\n",
       "      <th>Posn 30</th>\n",
       "      <th>Posn 31</th>\n",
       "      <th>Posn 32</th>\n",
       "      <th>Posn 33</th>\n",
       "      <th>Posn 34</th>\n",
       "      <th>Posn 35</th>\n",
       "      <th>Result</th>\n",
       "    </tr>\n",
       "  </thead>\n",
       "  <tbody>\n",
       "    <tr>\n",
       "      <th>0</th>\n",
       "      <td>f</td>\n",
       "      <td>f</td>\n",
       "      <td>f</td>\n",
       "      <td>f</td>\n",
       "      <td>f</td>\n",
       "      <td>f</td>\n",
       "      <td>f</td>\n",
       "      <td>f</td>\n",
       "      <td>f</td>\n",
       "      <td>f</td>\n",
       "      <td>...</td>\n",
       "      <td>f</td>\n",
       "      <td>f</td>\n",
       "      <td>f</td>\n",
       "      <td>f</td>\n",
       "      <td>f</td>\n",
       "      <td>f</td>\n",
       "      <td>t</td>\n",
       "      <td>t</td>\n",
       "      <td>n</td>\n",
       "      <td>won</td>\n",
       "    </tr>\n",
       "    <tr>\n",
       "      <th>1</th>\n",
       "      <td>f</td>\n",
       "      <td>f</td>\n",
       "      <td>f</td>\n",
       "      <td>f</td>\n",
       "      <td>t</td>\n",
       "      <td>f</td>\n",
       "      <td>f</td>\n",
       "      <td>f</td>\n",
       "      <td>f</td>\n",
       "      <td>f</td>\n",
       "      <td>...</td>\n",
       "      <td>f</td>\n",
       "      <td>f</td>\n",
       "      <td>f</td>\n",
       "      <td>f</td>\n",
       "      <td>f</td>\n",
       "      <td>f</td>\n",
       "      <td>t</td>\n",
       "      <td>t</td>\n",
       "      <td>n</td>\n",
       "      <td>won</td>\n",
       "    </tr>\n",
       "    <tr>\n",
       "      <th>2</th>\n",
       "      <td>f</td>\n",
       "      <td>f</td>\n",
       "      <td>f</td>\n",
       "      <td>f</td>\n",
       "      <td>t</td>\n",
       "      <td>f</td>\n",
       "      <td>t</td>\n",
       "      <td>f</td>\n",
       "      <td>f</td>\n",
       "      <td>f</td>\n",
       "      <td>...</td>\n",
       "      <td>f</td>\n",
       "      <td>f</td>\n",
       "      <td>f</td>\n",
       "      <td>f</td>\n",
       "      <td>f</td>\n",
       "      <td>f</td>\n",
       "      <td>t</td>\n",
       "      <td>t</td>\n",
       "      <td>n</td>\n",
       "      <td>won</td>\n",
       "    </tr>\n",
       "    <tr>\n",
       "      <th>3</th>\n",
       "      <td>f</td>\n",
       "      <td>f</td>\n",
       "      <td>f</td>\n",
       "      <td>f</td>\n",
       "      <td>f</td>\n",
       "      <td>f</td>\n",
       "      <td>f</td>\n",
       "      <td>f</td>\n",
       "      <td>t</td>\n",
       "      <td>f</td>\n",
       "      <td>...</td>\n",
       "      <td>f</td>\n",
       "      <td>f</td>\n",
       "      <td>f</td>\n",
       "      <td>f</td>\n",
       "      <td>f</td>\n",
       "      <td>f</td>\n",
       "      <td>t</td>\n",
       "      <td>t</td>\n",
       "      <td>n</td>\n",
       "      <td>won</td>\n",
       "    </tr>\n",
       "    <tr>\n",
       "      <th>4</th>\n",
       "      <td>f</td>\n",
       "      <td>f</td>\n",
       "      <td>f</td>\n",
       "      <td>f</td>\n",
       "      <td>f</td>\n",
       "      <td>f</td>\n",
       "      <td>f</td>\n",
       "      <td>f</td>\n",
       "      <td>f</td>\n",
       "      <td>f</td>\n",
       "      <td>...</td>\n",
       "      <td>f</td>\n",
       "      <td>f</td>\n",
       "      <td>f</td>\n",
       "      <td>f</td>\n",
       "      <td>f</td>\n",
       "      <td>f</td>\n",
       "      <td>t</td>\n",
       "      <td>t</td>\n",
       "      <td>n</td>\n",
       "      <td>won</td>\n",
       "    </tr>\n",
       "  </tbody>\n",
       "</table>\n",
       "<p>5 rows × 37 columns</p>\n",
       "</div>"
      ],
      "text/plain": [
       "  Posn 0 Posn 1 Posn 2 Posn 3 Posn 4 Posn 5 Posn 6 Posn 7 Posn 8 Posn 9  \\\n",
       "0      f      f      f      f      f      f      f      f      f      f   \n",
       "1      f      f      f      f      t      f      f      f      f      f   \n",
       "2      f      f      f      f      t      f      t      f      f      f   \n",
       "3      f      f      f      f      f      f      f      f      t      f   \n",
       "4      f      f      f      f      f      f      f      f      f      f   \n",
       "\n",
       "   ...   Posn 27 Posn 28 Posn 29 Posn 30 Posn 31 Posn 32 Posn 33 Posn 34  \\\n",
       "0  ...         f       f       f       f       f       f       t       t   \n",
       "1  ...         f       f       f       f       f       f       t       t   \n",
       "2  ...         f       f       f       f       f       f       t       t   \n",
       "3  ...         f       f       f       f       f       f       t       t   \n",
       "4  ...         f       f       f       f       f       f       t       t   \n",
       "\n",
       "  Posn 35 Result  \n",
       "0       n    won  \n",
       "1       n    won  \n",
       "2       n    won  \n",
       "3       n    won  \n",
       "4       n    won  \n",
       "\n",
       "[5 rows x 37 columns]"
      ]
     },
     "execution_count": 15,
     "metadata": {},
     "output_type": "execute_result"
    }
   ],
   "source": [
    "df = pd.read_csv('KingRookVersusKingPawn.csv')\n",
    "df[:5]"
   ]
  },
  {
   "cell_type": "markdown",
   "metadata": {},
   "source": [
    "### [Q14 5 points] For each column, print the difference in frequencies of the most frequent value to the least frequent value.\n",
    "\n",
    "For example, under \"Posn 1\", there are 2971 instances of 'f' and 225 instances of 't', so for Posn 1 we want to output 2971 - 225 = 2746."
   ]
  },
  {
   "cell_type": "code",
   "execution_count": 16,
   "metadata": {},
   "outputs": [
    {
     "data": {
      "text/plain": [
       "Posn 0     2482\n",
       "Posn 1     2746\n",
       "Posn 2     2956\n",
       "Posn 3     2552\n",
       "Posn 4     1062\n",
       "Posn 5      248\n",
       "Posn 6      856\n",
       "Posn 7     1804\n",
       "Posn 8      764\n",
       "Posn 9     1254\n",
       "Posn 10     438\n",
       "Posn 11    2524\n",
       "Posn 12    1214\n",
       "Posn 13    3166\n",
       "Posn 14    2302\n",
       "Posn 15    2884\n",
       "Posn 16    3002\n",
       "Posn 17    1196\n",
       "Posn 18    3144\n",
       "Posn 19    2232\n",
       "Posn 20    2028\n",
       "Posn 21    1916\n",
       "Posn 22    2830\n",
       "Posn 23     754\n",
       "Posn 24    3174\n",
       "Posn 25    1236\n",
       "Posn 26    2846\n",
       "Posn 27    3194\n",
       "Posn 28    3102\n",
       "Posn 29    2924\n",
       "Posn 30    2066\n",
       "Posn 31    2846\n",
       "Posn 32     772\n",
       "Posn 33     818\n",
       "Posn 34    1494\n",
       "Posn 35    1618\n",
       "Result      142\n",
       "dtype: int64"
      ]
     },
     "execution_count": 16,
     "metadata": {},
     "output_type": "execute_result"
    }
   ],
   "source": [
    "def freq(s):\n",
    "    '''S is a series and returns the range of the values in that series'''\n",
    "    series_vc = s.value_counts()\n",
    "    return series_vc.max() - series_vc.min()\n",
    "\n",
    "df_14 = df\n",
    "freqs = df_14.apply(freq)\n",
    "freqs"
   ]
  },
  {
   "cell_type": "markdown",
   "metadata": {},
   "source": [
    "### [Q15 5 points] Create a column named 'target' that is 1 if the Result is 'won', and 0 otherwise."
   ]
  },
  {
   "cell_type": "code",
   "execution_count": 17,
   "metadata": {},
   "outputs": [
    {
     "name": "stdout",
     "output_type": "stream",
     "text": [
      "  Result  target\n",
      "0    won     1.0\n",
      "1    won     1.0\n",
      "2    won     1.0\n",
      "3    won     1.0\n",
      "4    won     1.0\n"
     ]
    }
   ],
   "source": [
    "# Create a mask for won\n",
    "mask_win = (df['Result'] == 'won')\n",
    "\n",
    "# Add the target values\n",
    "df['target'] = 0.0\n",
    "df.loc[mask_win, 'target'] = 1.0\n",
    "\n",
    "# Print the results\n",
    "print df[['Result', 'target']][:5]"
   ]
  },
  {
   "cell_type": "markdown",
   "metadata": {},
   "source": [
    "### [Q16 4 points] What is the baseline classification accuracy?"
   ]
  },
  {
   "cell_type": "code",
   "execution_count": 18,
   "metadata": {},
   "outputs": [
    {
     "name": "stdout",
     "output_type": "stream",
     "text": [
      "Baseline: 0.522215269086\n"
     ]
    }
   ],
   "source": [
    "# Get the value counts for target\n",
    "vc_target = df['target'].value_counts()\n",
    "\n",
    "# Get the baseline\n",
    "baseline = float(vc_target.max()) / float(vc_target.sum())\n",
    "print 'Baseline: ' + str(baseline)"
   ]
  },
  {
   "cell_type": "markdown",
   "metadata": {},
   "source": [
    "### [Q17 10 points] Classify the target using all the Posn features via logistic regression.\n",
    "\n",
    "* There are 36 features: \"Posn 0\", \"Posn 1\", ..., \"Posn 35\". I have no idea what they mean.\n",
    "* Split the data into a training set containing 70% of the rows, and a test set with the remaining 30%.\n",
    "* Build a logistic regression classifier using the training set.\n",
    "* Output its classification accuracy on the training set and on the test set."
   ]
  },
  {
   "cell_type": "code",
   "execution_count": 19,
   "metadata": {},
   "outputs": [
    {
     "name": "stdout",
     "output_type": "stream",
     "text": [
      "Train Prediction: 0.96334376397\n",
      "Test Prediction: 0.959332638165\n"
     ]
    }
   ],
   "source": [
    "from patsy import dmatrices\n",
    "from sklearn.model_selection import train_test_split\n",
    "from sklearn.linear_model import LogisticRegression\n",
    "from sklearn import metrics\n",
    "\n",
    "# Create the formula\n",
    "formula = 'target ~ 0 + {}'.format(' + '.join(['Q(\"{}\")'.format(x) for x in df.columns.values[:len(df.columns.values) - 2]]))\n",
    "\n",
    "# Get the design matrices\n",
    "Y, X = dmatrices(formula, df, return_type='dataframe')\n",
    "y = Y['target'].values\n",
    "\n",
    "# Split the training and testing data\n",
    "X_train, X_test, y_train, y_test = train_test_split(X, y, test_size=0.3, random_state=1)\n",
    "\n",
    "# Build the model\n",
    "model = LogisticRegression()\n",
    "result = model.fit(X_train, y_train)\n",
    "\n",
    "# Test on the training data\n",
    "prediction_train = model.predict(X_train)\n",
    "print 'Train Prediction: ' + str(metrics.accuracy_score(y_train, prediction_train))\n",
    "\n",
    "# Test on the testing data\n",
    "prediction_test = model.predict(X_test)\n",
    "print 'Test Prediction: ' + str(metrics.accuracy_score(y_test, prediction_test))"
   ]
  }
 ],
 "metadata": {
  "kernelspec": {
   "display_name": "Python 2",
   "language": "python",
   "name": "python2"
  },
  "language_info": {
   "codemirror_mode": {
    "name": "ipython",
    "version": 2
   },
   "file_extension": ".py",
   "mimetype": "text/x-python",
   "name": "python",
   "nbconvert_exporter": "python",
   "pygments_lexer": "ipython2",
   "version": "2.7.14"
  }
 },
 "nbformat": 4,
 "nbformat_minor": 2
}
