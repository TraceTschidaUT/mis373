{
 "cells": [
  {
   "cell_type": "code",
   "execution_count": 1,
   "metadata": {
    "collapsed": false
   },
   "outputs": [
    {
     "name": "stdout",
     "output_type": "stream",
     "text": [
      "Populating the interactive namespace from numpy and matplotlib\n"
     ]
    }
   ],
   "source": [
    "from pandas import Series, DataFrame\n",
    "import pandas as pd\n",
    "%pylab inline"
   ]
  },
  {
   "cell_type": "markdown",
   "metadata": {},
   "source": [
    "This exam has 10 questions for a 100 points total.\n",
    "* Q1 is 5 points\n",
    "* Q2-Q6 are 9 points each\n",
    "* Q7-Q9 are 12 points each\n",
    "* Q10 is 14 points\n",
    "\n",
    "You will analyze a dataset of tennis matches played in 2015. The data is in the file **ATPmatches.csv**. Each tennis match has several sets, and each set has several games. Whoever wins 6 games in a set is the winner of the set. Matches are won by whoever wins enough sets; the number of sets you need to win varies between competitions."
   ]
  },
  {
   "cell_type": "markdown",
   "metadata": {},
   "source": [
    "### [Q1 5 points] Read in the data.\n",
    "The data is in a CSV file named **ATPmatches.csv**"
   ]
  },
  {
   "cell_type": "code",
   "execution_count": 2,
   "metadata": {
    "collapsed": false
   },
   "outputs": [
    {
     "name": "stdout",
     "output_type": "stream",
     "text": [
      "  tourney_id tourney_name surface         winner_name     winner_age  \\\n",
      "0   2015-329        Tokyo    Hard  Stanislas Wawrinka  30.5215605749   \n",
      "1   2015-329        Tokyo    Hard         Tatsuma Ito  27.3812457221   \n",
      "2   2015-329        Tokyo    Hard     Austin Krajicek  25.3032169747   \n",
      "3   2015-329        Tokyo    Hard          Joao Sousa  26.5160848734   \n",
      "4   2015-329        Tokyo    Hard        Gilles Simon  30.7707049966   \n",
      "\n",
      "           loser_name      loser_age              score  \n",
      "0      Radek Stepanek  36.8542094456            7-5 6-3  \n",
      "1  Yoshihito Nishioka  20.0219028063        3-6 6-0 7-5  \n",
      "2       Matthew Ebden  27.8576317591  5-7 7-6(4) 7-6(5)  \n",
      "3     Feliciano Lopez  34.0396988364        6-4 4-6 6-1  \n",
      "4     Mikhail Youzhny  33.2785763176            6-4 6-4  \n"
     ]
    }
   ],
   "source": [
    "df = pd.read_csv('ATPmatches.csv', dtype=unicode)\n",
    "print df[:5]"
   ]
  },
  {
   "cell_type": "markdown",
   "metadata": {},
   "source": [
    "### [Q2 9 points] How many games did Roger Federer win?"
   ]
  },
  {
   "cell_type": "code",
   "execution_count": 3,
   "metadata": {
    "collapsed": false
   },
   "outputs": [
    {
     "name": "stdout",
     "output_type": "stream",
     "text": [
      "63\n"
     ]
    }
   ],
   "source": [
    "# Create a mask for winners with name Roger Federer\n",
    "mask_rf_wins = df['winner_name'] == 'Roger Federer'\n",
    "\n",
    "# Apply the mask and get len of his name\n",
    "series_rf_wins = df['winner_name'][mask_rf_wins]\n",
    "\n",
    "print len(series_rf_wins)"
   ]
  },
  {
   "cell_type": "markdown",
   "metadata": {},
   "source": [
    "### [Q3 9 points] Which players have beaten Roger Federer, and how often?"
   ]
  },
  {
   "cell_type": "code",
   "execution_count": 4,
   "metadata": {
    "collapsed": false
   },
   "outputs": [
    {
     "name": "stdout",
     "output_type": "stream",
     "text": [
      "Novak Djokovic        5\n",
      "Nick Kyrgios          1\n",
      "John Isner            1\n",
      "Albert Ramos          1\n",
      "Andreas Seppi         1\n",
      "Gael Monfils          1\n",
      "Stanislas Wawrinka    1\n",
      "Name: winner_name, dtype: int64\n"
     ]
    }
   ],
   "source": [
    "# Get a df of just winners and losers\n",
    "df_winners_and_losers = df[['winner_name', 'loser_name']]\n",
    "\n",
    "# Create and apply a mask of rf losing\n",
    "mask_rf_lose = df['loser_name'] == 'Roger Federer'\n",
    "df_rf_loses = df_winners_and_losers[mask_rf_lose]\n",
    "\n",
    "# Grap the value counts of the winner's name\n",
    "series_winners_beat_rf = df_rf_loses['winner_name'].value_counts()\n",
    "print series_winners_beat_rf"
   ]
  },
  {
   "cell_type": "markdown",
   "metadata": {},
   "source": [
    "### [Q4 9 points] How many players have won at least one game? Lost at least one game?"
   ]
  },
  {
   "cell_type": "code",
   "execution_count": 5,
   "metadata": {
    "collapsed": false
   },
   "outputs": [
    {
     "name": "stdout",
     "output_type": "stream",
     "text": [
      "287\n",
      "404\n"
     ]
    }
   ],
   "source": [
    "# Print the unique winners and losers names\n",
    "print len(df['winner_name'].unique())\n",
    "print len(df['loser_name'].unique())"
   ]
  },
  {
   "cell_type": "markdown",
   "metadata": {},
   "source": [
    "### [Q5 9 points] Create a column called 'winner_loser' of the form 'winner_name beat loser_name score'.\n",
    "\n",
    "For example, for the first row, the winner_loser column should have the value 'Stanislas Wawrinka beat Radek Stepanek 7-5 6-3'"
   ]
  },
  {
   "cell_type": "code",
   "execution_count": 6,
   "metadata": {
    "collapsed": false
   },
   "outputs": [],
   "source": [
    "# Create a new column and winner and loser name plus score\n",
    "# User string concatenation\n",
    "df['winner_loser'] = df['winner_name'] + ' beat ' + df['loser_name'] + ' ' + df['score']"
   ]
  },
  {
   "cell_type": "markdown",
   "metadata": {},
   "source": [
    "### [Q6 9 points] Plot the 10 most common scores and their frequencies.\n",
    "A score of '6-3 6-4' is different from '6-4 6-3'."
   ]
  },
  {
   "cell_type": "code",
   "execution_count": 7,
   "metadata": {
    "collapsed": false
   },
   "outputs": [
    {
     "data": {
      "text/plain": [
       "<matplotlib.axes._subplots.AxesSubplot at 0xa5905f8>"
      ]
     },
     "execution_count": 7,
     "metadata": {},
     "output_type": "execute_result"
    },
    {
     "data": {
      "image/png": "[encoded data removed]",
      "text/plain": [
       "<matplotlib.figure.Figure at 0xa703dd8>"
      ]
     },
     "metadata": {},
     "output_type": "display_data"
    }
   ],
   "source": [
    "# Get a series of only scores\n",
    "series_scores = df['score']\n",
    "\n",
    "# Get the value counts of the scores\n",
    "series_scores_counts = series_scores.value_counts()\n",
    "\n",
    "# Sort the series in descending order\n",
    "series_scores_counts.sort_values(ascending=False)\n",
    "\n",
    "# Plot the results\n",
    "series_scores_counts[:10].plot(kind='bar')"
   ]
  },
  {
   "cell_type": "markdown",
   "metadata": {},
   "source": [
    "### [Q7 12 points] Find the number of matches for each value of the number of sets played.\n",
    "If a match has a score '6-3 6-4', there were two \"sets\" played, the first ending with '6-3' and the second with '6-4'. Similarly, if the score was '6-0 6-1 6-2', there were 3 sets played. You want to figure out how many matches had 2 sets, 3 sets, and so on..."
   ]
  },
  {
   "cell_type": "code",
   "execution_count": 13,
   "metadata": {
    "collapsed": false
   },
   "outputs": [
    {
     "name": "stdout",
     "output_type": "stream",
     "text": [
      "2    1383\n",
      "3    1191\n",
      "4     208\n",
      "5     136\n",
      "1      28\n",
      "0      12\n",
      "Name: sets, dtype: int64\n",
      "2    1370\n",
      "3    1213\n",
      "4     218\n",
      "5     145\n",
      "1      11\n",
      "6       1\n",
      "Name: score, dtype: int64\n"
     ]
    }
   ],
   "source": [
    "# Create a new column for the number of sets played\n",
    "# Iterate over the score using map and return the number of sets\n",
    "def numSet(s):\n",
    "    '''s is a string\\n Returns the number of sets in the match'''\n",
    "    return (s.count('-'))\n",
    "\n",
    "df['sets'] = df['score'].map(numSet)\n",
    "\n",
    "print df['sets'].value_counts()\n",
    "\n",
    "print df['score'].str.split().apply(len).value_counts()\n"
   ]
  },
  {
   "cell_type": "markdown",
   "metadata": {},
   "source": [
    "### [Q8 12 points] Among the players who have played at least 50 matches (i.e., there are 50 or more matches where they were either the winner or the loser),  output the top 10 players with the highest winning ratio (i.e., ratio of number of wins to number of games played)"
   ]
  },
  {
   "cell_type": "code",
   "execution_count": 9,
   "metadata": {
    "collapsed": false
   },
   "outputs": [
    {
     "name": "stdout",
     "output_type": "stream",
     "text": [
      "Novak Djokovic        0.932584\n",
      "Roger Federer         0.851351\n",
      "Andy Murray           0.825581\n",
      "David Ferrer          0.774648\n",
      "Kei Nishikori         0.763889\n",
      "Rafael Nadal          0.753086\n",
      "Stanislas Wawrinka    0.743243\n",
      "Tomas Berdych         0.721519\n",
      "Richard Gasquet       0.716667\n",
      "Jack Sock             0.660377\n",
      "dtype: float64\n"
     ]
    }
   ],
   "source": [
    "# Create a mask to find the number of players whom played at least 50 matches\n",
    "mask_50_matches = (df['winner_name'].value_counts() + \\\n",
    "                   df['loser_name'].value_counts() >=50)\n",
    "\n",
    "# Get a series of wins and losses with index as players name\n",
    "series_wins = df['winner_name'].value_counts()[mask_50_matches]\n",
    "series_lose = df['loser_name'].value_counts()[mask_50_matches]\n",
    "series_total_games = series_wins + series_lose\n",
    "\n",
    "series_ratio = series_wins / series_total_games\n",
    "print series_ratio.sort_values(ascending=False)[:10]"
   ]
  },
  {
   "cell_type": "markdown",
   "metadata": {},
   "source": [
    "### [Q9 12 points] King of each surface.\n",
    "\n",
    "Figure out which player has won the most games for each surface."
   ]
  },
  {
   "cell_type": "code",
   "execution_count": 10,
   "metadata": {
    "collapsed": false
   },
   "outputs": [
    {
     "name": "stdout",
     "output_type": "stream",
     "text": [
      "surface\n",
      "Clay       Rafael Nadal\n",
      "Grass       Andy Murray\n",
      "Hard     Novak Djokovic\n",
      "dtype: object\n"
     ]
    }
   ],
   "source": [
    "# Create a pivot table of each winner and surface \n",
    "# Add a dummy column\n",
    "df['DUMMY'] = 1\n",
    "pt_winner_surface = pd.pivot_table(df, columns='surface', index='winner_name', \n",
    "                                   values='DUMMY', aggfunc=sum)\n",
    "\n",
    "# Get the player with the most wins for each surface\n",
    "print pt_winner_surface.idxmax()"
   ]
  },
  {
   "cell_type": "markdown",
   "metadata": {},
   "source": [
    "### [Q10 14 points] Create a new column called 'winner_age_group'. Take the age of the winning player and set the value for the new column to 'Baby' if the age is less than 20, 'Youngster' if the age is at least 20 but less than 25, 'Prime' if it is at least 25 but less than 30, and 'Oldie' otherwise. Figure out how many unique winner_names belong to each winner_age_group."
   ]
  },
  {
   "cell_type": "code",
   "execution_count": 11,
   "metadata": {
    "collapsed": false
   },
   "outputs": [
    {
     "name": "stdout",
     "output_type": "stream",
     "text": [
      "Prime        122\n",
      "Youngster     91\n",
      "Oldie         69\n",
      "Baby          23\n",
      "Name: winner_age_group, dtype: int64\n"
     ]
    }
   ],
   "source": [
    "def ageCategory(age):\n",
    "    '''age is a string\\n Returns the string of the category'''\n",
    "    \n",
    "    age = float(age)\n",
    "    cat = ''\n",
    "    \n",
    "    if age < 20.0:\n",
    "        cat = 'Baby'\n",
    "    elif age < 25.0:\n",
    "        cat = 'Youngster'\n",
    "    elif age < 30.0:\n",
    "        cat = 'Prime'\n",
    "    elif age > 30:\n",
    "        cat = 'Oldie'\n",
    "    \n",
    "    return cat\n",
    "# Create a new column for winner age group\n",
    "df['winner_age_group'] = df['winner_age'].map(ageCategory)\n",
    "\n",
    "# Get only the unique names for each category\n",
    "df_unique_winner_age = df[['winner_name', 'winner_age_group']].drop_duplicates()\n",
    "\n",
    "print df_unique_winner_age['winner_age_group'].value_counts()"
   ]
  },
  {
   "cell_type": "code",
   "execution_count": null,
   "metadata": {},
   "outputs": [],
   "source": []
  }
 ],
 "metadata": {
  "anaconda-cloud": {},
  "kernelspec": {
   "display_name": "Python 2",
   "language": "python",
   "name": "python2"
  },
  "language_info": {
   "codemirror_mode": {
    "name": "ipython",
    "version": 2
   },
   "file_extension": ".py",
   "mimetype": "text/x-python",
   "name": "python",
   "nbconvert_exporter": "python",
   "pygments_lexer": "ipython2",
   "version": "2.7.14"
  }
 },
 "nbformat": 4,
 "nbformat_minor": 2
}
