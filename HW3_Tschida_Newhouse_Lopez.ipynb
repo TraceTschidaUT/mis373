{
 "cells": [
  {
   "cell_type": "markdown",
   "metadata": {},
   "source": [
    "# Question 1"
   ]
  },
  {
   "cell_type": "code",
   "execution_count": 134,
   "metadata": {},
   "outputs": [
    {
     "name": "stdout",
     "output_type": "stream",
     "text": [
      "Populating the interactive namespace from numpy and matplotlib\n"
     ]
    }
   ],
   "source": [
    "from pandas import Series, DataFrame\n",
    "import pandas as pd\n",
    "from patsy import dmatrices\n",
    "import statsmodels.api as sm\n",
    "from sklearn.model_selection import train_test_split\n",
    "from sklearn import neighbors, metrics\n",
    "%pylab inline"
   ]
  },
  {
   "cell_type": "markdown",
   "metadata": {},
   "source": [
    "To import the data, we used a regex that used 2 or more spaces as a delimiter. This was able to capture the county and state in one column and took care of the long spacing between county and the first column."
   ]
  },
  {
   "cell_type": "code",
   "execution_count": 135,
   "metadata": {},
   "outputs": [
    {
     "data": {
      "text/html": [
       "<div>\n",
       "<style>\n",
       "    .dataframe thead tr:only-child th {\n",
       "        text-align: right;\n",
       "    }\n",
       "\n",
       "    .dataframe thead th {\n",
       "        text-align: left;\n",
       "    }\n",
       "\n",
       "    .dataframe tbody tr th {\n",
       "        vertical-align: top;\n",
       "    }\n",
       "</style>\n",
       "<table border=\"1\" class=\"dataframe\">\n",
       "  <thead>\n",
       "    <tr style=\"text-align: right;\">\n",
       "      <th></th>\n",
       "      <th>percentVoting</th>\n",
       "      <th>MedianAge</th>\n",
       "      <th>MeanSavings</th>\n",
       "      <th>PerCapitalIncome</th>\n",
       "      <th>PercentInPoverty</th>\n",
       "      <th>PercentVeterans</th>\n",
       "      <th>PercentFemale</th>\n",
       "      <th>PopulationDensity</th>\n",
       "      <th>PercentInNursingHomes</th>\n",
       "      <th>CrimeIndex</th>\n",
       "    </tr>\n",
       "    <tr>\n",
       "      <th>CountyName</th>\n",
       "      <th></th>\n",
       "      <th></th>\n",
       "      <th></th>\n",
       "      <th></th>\n",
       "      <th></th>\n",
       "      <th></th>\n",
       "      <th></th>\n",
       "      <th></th>\n",
       "      <th></th>\n",
       "      <th></th>\n",
       "    </tr>\n",
       "  </thead>\n",
       "  <tbody>\n",
       "    <tr>\n",
       "      <th>Autauga, AL</th>\n",
       "      <td>30.92</td>\n",
       "      <td>31.7</td>\n",
       "      <td>57623</td>\n",
       "      <td>15768</td>\n",
       "      <td>15.2</td>\n",
       "      <td>10.74</td>\n",
       "      <td>51.41</td>\n",
       "      <td>60.4</td>\n",
       "      <td>2.36</td>\n",
       "      <td>457</td>\n",
       "    </tr>\n",
       "    <tr>\n",
       "      <th>Baldwin, AL</th>\n",
       "      <td>26.24</td>\n",
       "      <td>35.5</td>\n",
       "      <td>84935</td>\n",
       "      <td>16954</td>\n",
       "      <td>13.6</td>\n",
       "      <td>9.73</td>\n",
       "      <td>51.34</td>\n",
       "      <td>66.5</td>\n",
       "      <td>5.40</td>\n",
       "      <td>282</td>\n",
       "    </tr>\n",
       "    <tr>\n",
       "      <th>Barbour, AL</th>\n",
       "      <td>46.36</td>\n",
       "      <td>32.8</td>\n",
       "      <td>83656</td>\n",
       "      <td>15532</td>\n",
       "      <td>25.0</td>\n",
       "      <td>8.82</td>\n",
       "      <td>53.03</td>\n",
       "      <td>28.8</td>\n",
       "      <td>7.02</td>\n",
       "      <td>47</td>\n",
       "    </tr>\n",
       "    <tr>\n",
       "      <th>Blount, AL</th>\n",
       "      <td>32.92</td>\n",
       "      <td>34.5</td>\n",
       "      <td>61249</td>\n",
       "      <td>14820</td>\n",
       "      <td>15.0</td>\n",
       "      <td>9.67</td>\n",
       "      <td>51.15</td>\n",
       "      <td>62.4</td>\n",
       "      <td>2.36</td>\n",
       "      <td>185</td>\n",
       "    </tr>\n",
       "    <tr>\n",
       "      <th>Bullock, AL</th>\n",
       "      <td>67.67</td>\n",
       "      <td>31.7</td>\n",
       "      <td>75725</td>\n",
       "      <td>11120</td>\n",
       "      <td>33.0</td>\n",
       "      <td>7.08</td>\n",
       "      <td>50.76</td>\n",
       "      <td>17.6</td>\n",
       "      <td>2.91</td>\n",
       "      <td>141</td>\n",
       "    </tr>\n",
       "    <tr>\n",
       "      <th>Butler, AL</th>\n",
       "      <td>47.43</td>\n",
       "      <td>33.5</td>\n",
       "      <td>75887</td>\n",
       "      <td>12015</td>\n",
       "      <td>27.1</td>\n",
       "      <td>9.48</td>\n",
       "      <td>53.25</td>\n",
       "      <td>28.1</td>\n",
       "      <td>7.98</td>\n",
       "      <td>266</td>\n",
       "    </tr>\n",
       "    <tr>\n",
       "      <th>Calhoun, AL</th>\n",
       "      <td>38.44</td>\n",
       "      <td>32.7</td>\n",
       "      <td>76073</td>\n",
       "      <td>15162</td>\n",
       "      <td>18.0</td>\n",
       "      <td>11.95</td>\n",
       "      <td>51.66</td>\n",
       "      <td>190.8</td>\n",
       "      <td>4.81</td>\n",
       "      <td>560</td>\n",
       "    </tr>\n",
       "    <tr>\n",
       "      <th>Chambers, AL</th>\n",
       "      <td>45.36</td>\n",
       "      <td>34.8</td>\n",
       "      <td>40498</td>\n",
       "      <td>13887</td>\n",
       "      <td>18.8</td>\n",
       "      <td>10.52</td>\n",
       "      <td>52.77</td>\n",
       "      <td>62.1</td>\n",
       "      <td>6.15</td>\n",
       "      <td>218</td>\n",
       "    </tr>\n",
       "    <tr>\n",
       "      <th>Cherokee, AL</th>\n",
       "      <td>53.61</td>\n",
       "      <td>36.3</td>\n",
       "      <td>56386</td>\n",
       "      <td>13936</td>\n",
       "      <td>15.4</td>\n",
       "      <td>9.29</td>\n",
       "      <td>50.82</td>\n",
       "      <td>35.8</td>\n",
       "      <td>5.61</td>\n",
       "      <td>51</td>\n",
       "    </tr>\n",
       "    <tr>\n",
       "      <th>Chilton, AL</th>\n",
       "      <td>34.19</td>\n",
       "      <td>34.0</td>\n",
       "      <td>52230</td>\n",
       "      <td>14036</td>\n",
       "      <td>18.6</td>\n",
       "      <td>9.48</td>\n",
       "      <td>51.41</td>\n",
       "      <td>47.8</td>\n",
       "      <td>3.58</td>\n",
       "      <td>296</td>\n",
       "    </tr>\n",
       "  </tbody>\n",
       "</table>\n",
       "</div>"
      ],
      "text/plain": [
       "              percentVoting  MedianAge  MeanSavings  PerCapitalIncome  \\\n",
       "CountyName                                                              \n",
       "Autauga, AL           30.92       31.7        57623             15768   \n",
       "Baldwin, AL           26.24       35.5        84935             16954   \n",
       "Barbour, AL           46.36       32.8        83656             15532   \n",
       "Blount, AL            32.92       34.5        61249             14820   \n",
       "Bullock, AL           67.67       31.7        75725             11120   \n",
       "Butler, AL            47.43       33.5        75887             12015   \n",
       "Calhoun, AL           38.44       32.7        76073             15162   \n",
       "Chambers, AL          45.36       34.8        40498             13887   \n",
       "Cherokee, AL          53.61       36.3        56386             13936   \n",
       "Chilton, AL           34.19       34.0        52230             14036   \n",
       "\n",
       "              PercentInPoverty  PercentVeterans  PercentFemale  \\\n",
       "CountyName                                                       \n",
       "Autauga, AL               15.2            10.74          51.41   \n",
       "Baldwin, AL               13.6             9.73          51.34   \n",
       "Barbour, AL               25.0             8.82          53.03   \n",
       "Blount, AL                15.0             9.67          51.15   \n",
       "Bullock, AL               33.0             7.08          50.76   \n",
       "Butler, AL                27.1             9.48          53.25   \n",
       "Calhoun, AL               18.0            11.95          51.66   \n",
       "Chambers, AL              18.8            10.52          52.77   \n",
       "Cherokee, AL              15.4             9.29          50.82   \n",
       "Chilton, AL               18.6             9.48          51.41   \n",
       "\n",
       "              PopulationDensity  PercentInNursingHomes  CrimeIndex  \n",
       "CountyName                                                          \n",
       "Autauga, AL                60.4                   2.36         457  \n",
       "Baldwin, AL                66.5                   5.40         282  \n",
       "Barbour, AL                28.8                   7.02          47  \n",
       "Blount, AL                 62.4                   2.36         185  \n",
       "Bullock, AL                17.6                   2.91         141  \n",
       "Butler, AL                 28.1                   7.98         266  \n",
       "Calhoun, AL               190.8                   4.81         560  \n",
       "Chambers, AL               62.1                   6.15         218  \n",
       "Cherokee, AL               35.8                   5.61          51  \n",
       "Chilton, AL                47.8                   3.58         296  "
      ]
     },
     "execution_count": 135,
     "metadata": {},
     "output_type": "execute_result"
    }
   ],
   "source": [
    "df = pd.read_csv('http://users.stat.ufl.edu/~winner/data/clinton1.dat', \\\n",
    "                names=['CountyName', 'percentVoting', \\\n",
    "                      'MedianAge', 'MeanSavings', 'PerCapitalIncome',\\\n",
    "                      'PercentInPoverty', 'PercentVeterans', \\\n",
    "                      'PercentFemale', 'PopulationDensity', \\\n",
    "                      'PercentInNursingHomes', 'CrimeIndex'], \\\n",
    "                sep='\\s+\\s+', engine='python', header=None)\n",
    "\n",
    "df = df.set_index('CountyName')\n",
    "df[:10]"
   ]
  },
  {
   "cell_type": "markdown",
   "metadata": {},
   "source": [
    "# Question 2"
   ]
  },
  {
   "cell_type": "markdown",
   "metadata": {},
   "source": [
    "We wrote a loop to product the long regression string used for pasty. This would encapsulate all of the necessary columns. We then used statsmodels to create a regression based of the dmatrices."
   ]
  },
  {
   "cell_type": "code",
   "execution_count": 136,
   "metadata": {},
   "outputs": [
    {
     "name": "stdout",
     "output_type": "stream",
     "text": [
      "PercentInPoverty    9.526970e-100\n",
      "PercentFemale        4.425751e-23\n",
      "dtype: float64\n"
     ]
    }
   ],
   "source": [
    "# Create a dmatrices\n",
    "# Build a string for the regression\n",
    "regres_string = 'percentVoting ~ '\n",
    "count = 2\n",
    "ignore = ['percentVoting']\n",
    "for col in df.columns.values:\n",
    "    if col in ignore:\n",
    "        continue\n",
    "    regres_string += col\n",
    "    if count != len(df.columns.values):\n",
    "        regres_string += ' + '\n",
    "    count += 1\n",
    "\n",
    "# Get the datamatrices\n",
    "y, X = dmatrices(regres_string, data=df, return_type='dataframe')\n",
    "\n",
    "# Create the model and fit it\n",
    "model = sm.OLS(y, X)\n",
    "result = model.fit()\n",
    "print result.pvalues.drop('Intercept').sort_values()[:2]"
   ]
  },
  {
   "cell_type": "markdown",
   "metadata": {},
   "source": [
    "# Question 3"
   ]
  },
  {
   "cell_type": "markdown",
   "metadata": {},
   "source": [
    "We actually used the same string builder as above with some slight modification to make it more extendible. We loop through the regressors and build out the regression string and leave out the last regressors's \"+\"."
   ]
  },
  {
   "cell_type": "code",
   "execution_count": 137,
   "metadata": {},
   "outputs": [
    {
     "name": "stdout",
     "output_type": "stream",
     "text": [
      "percentVoting ~ age + savings\n"
     ]
    }
   ],
   "source": [
    "# Create a function to build regression formula\n",
    "def formula(regressors):\n",
    "    regres_string = 'percentVoting ~ '\n",
    "    count = 1\n",
    "    \n",
    "    # loop through the regressor\n",
    "    for col in regressors:\n",
    "        regres_string += col\n",
    "        \n",
    "        if count != len(regressors):\n",
    "            regres_string += ' + '\n",
    "        count += 1\n",
    "    return regres_string\n",
    "\n",
    "formula_test = formula(['age', 'savings'])\n",
    "print formula_test"
   ]
  },
  {
   "cell_type": "markdown",
   "metadata": {},
   "source": [
    "# Question 4"
   ]
  },
  {
   "cell_type": "markdown",
   "metadata": {},
   "source": [
    "We took the regression approach we used in Question 2 and converted it into a function. We get the formula for the regression string by calling the previous function and then use statsmodels to build the regression model."
   ]
  },
  {
   "cell_type": "code",
   "execution_count": 138,
   "metadata": {},
   "outputs": [
    {
     "name": "stdout",
     "output_type": "stream",
     "text": [
      "0.271177655492\n"
     ]
    }
   ],
   "source": [
    "def rsquared(regressors):\n",
    "    '''Takes a list of regressors and returns the corresponding rsquared'''\n",
    "\n",
    "    # Get the formula \n",
    "    equation = formula(regressors)\n",
    "    \n",
    "    # Get the design matrices for the regression\n",
    "    y, X = dmatrices(equation, data=df, return_type='dataframe')\n",
    "    \n",
    "    # Create a model for the regression\n",
    "    model = sm.OLS(y, X)\n",
    "    result = model.fit()\n",
    "    \n",
    "    return result.rsquared\n",
    "    \n",
    "# Create a list of regressors\n",
    "regressors = df.columns.values[1:5]\n",
    "\n",
    "# Get sample data\n",
    "result = rsquared(regressors)\n",
    "print result"
   ]
  },
  {
   "cell_type": "markdown",
   "metadata": {},
   "source": [
    "# Question 5"
   ]
  },
  {
   "cell_type": "markdown",
   "metadata": {},
   "source": [
    "We created a loop that checks if the regressor is already in the all_regressor_list. We then get the rsqaured for the current mix of regressor plus a new option by calling Question 4s \"rsqaure\" function. We then store the highest rsquare and regressor's name in a tuple and return the tuple. "
   ]
  },
  {
   "cell_type": "code",
   "execution_count": 139,
   "metadata": {},
   "outputs": [
    {
     "data": {
      "text/plain": [
       "((0.25237620362101276, 'PercentInPoverty'), 'PercentInPoverty')"
      ]
     },
     "execution_count": 139,
     "metadata": {},
     "output_type": "execute_result"
    }
   ],
   "source": [
    "def best_next_regressor(current_regressor_list, all_regressor_list):\n",
    "    '''Take in a regressor list and finds the highest rsquared when \n",
    "    combined with another regressor'''\n",
    "    \n",
    "    # A tuples to hold the highest rquareds and the regressor\n",
    "    rsquareds = (-1, \"\")\n",
    "    \n",
    "    # Loop through every regressor to create the best combination\n",
    "    for regressor in all_regressor_list:\n",
    "        \n",
    "        # Check if the regressor is not in the current list\n",
    "        if regressor not in current_regressor_list:\n",
    "            \n",
    "            # Create a formula for the regressors\n",
    "            current_regressor_mix = current_regressor_list[:]\n",
    "            current_regressor_mix.append(regressor)\n",
    "    \n",
    "            # Get the rsquared\n",
    "            current_rsquared = rsquared(current_regressor_mix)\n",
    "\n",
    "            # Add the rsquared to the list\n",
    "            rsquared_regressor = (current_rsquared, regressor)\n",
    "            \n",
    "            # Check if the rsquared is bigger than the current one\n",
    "            if rsquared_regressor > rsquareds[0]:\n",
    "                rsquareds = (rsquared_regressor, regressor)\n",
    "    \n",
    "    return rsquareds\n",
    "    \n",
    "# Current list \n",
    "current_regressors = ['MeanSavings']\n",
    "best_next_regressor(current_regressors, df.columns.values[1:])"
   ]
  },
  {
   "cell_type": "markdown",
   "metadata": {},
   "source": [
    "# Question 6"
   ]
  },
  {
   "cell_type": "markdown",
   "metadata": {},
   "source": [
    "We chose to store the results of each regressors rsquared in a list of tuples consisting of the rsquared value and the regressors name. We then created a custom sorting function to put them in descending order. We then create a tuple of the rsquareds list and named regressors list and return the corresponding amount in num_regressors."
   ]
  },
  {
   "cell_type": "code",
   "execution_count": 140,
   "metadata": {},
   "outputs": [],
   "source": [
    "def sort_first(t):\n",
    "    '''Takes in a tuples and returns the first element'''\n",
    "    return t[0]\n",
    "\n",
    "def best_regressors(num_regressors, all_regressors_list):\n",
    "    '''Returns the k number of best regressors'''\n",
    "    \n",
    "    # Create a list of tuples of the rsquared and the regressor name\n",
    "    named_rsquareds = []\n",
    "    \n",
    "    # Loop through each regressor\n",
    "    for regressor in all_regressors_list:\n",
    "        \n",
    "        # Get the rsquared\n",
    "        current_rsquared = rsquared([regressor])\n",
    "        named_rsquareds.append((current_rsquared, regressor))\n",
    "        \n",
    "    # Sort named_rquareds\n",
    "    named_rsquareds.sort(key=sort_first, reverse=True)\n",
    "    \n",
    "    # Return a tuple containing a list of rsquares and the names\n",
    "    return_rs = []\n",
    "    return_names =[]\n",
    "    for r in named_rsquareds:\n",
    "        return_rs.append(r[0])\n",
    "        return_names.append(r[1])\n",
    "    \n",
    "    # Combine the list and return a tuple\n",
    "    return_tuple = (return_rs, return_names)\n",
    "    return return_tuple[:num_regressors]    "
   ]
  },
  {
   "cell_type": "markdown",
   "metadata": {},
   "source": [
    "# Question 7"
   ]
  },
  {
   "cell_type": "markdown",
   "metadata": {},
   "source": [
    "We used the function in Question 6, and passed in the all the possible regressors from the DataFrame."
   ]
  },
  {
   "cell_type": "code",
   "execution_count": 141,
   "metadata": {},
   "outputs": [
    {
     "name": "stdout",
     "output_type": "stream",
     "text": [
      "([0.25103851961631984, 0.072252743133890851, 0.050458771395530011, 0.034041750136227011, 0.019656116235418519, 0.014552732663332124, 0.011317144443458882, 0.0087569115413174137, 0.0033799834005024953], ['PercentInPoverty', 'PercentFemale', 'PerCapitalIncome', 'PopulationDensity', 'MeanSavings', 'CrimeIndex', 'PercentVeterans', 'PercentInNursingHomes', 'MedianAge'])\n"
     ]
    }
   ],
   "source": [
    "# Get a list of the best regressors\n",
    "best_regressors = best_regressors(len(df.columns.values[1:]), df.columns.values[1:])\n",
    "print best_regressors"
   ]
  },
  {
   "cell_type": "markdown",
   "metadata": {},
   "source": [
    "# Question 8"
   ]
  },
  {
   "cell_type": "markdown",
   "metadata": {},
   "source": [
    "Our approach was to create a rolling total of the sum of the regressors. We then plotted this against the number of regressors in that rolling total. "
   ]
  },
  {
   "cell_type": "code",
   "execution_count": 142,
   "metadata": {},
   "outputs": [
    {
     "data": {
      "image/png": "[encoded data removed]",
      "text/plain": [
       "<matplotlib.figure.Figure at 0xf69c588>"
      ]
     },
     "metadata": {},
     "output_type": "display_data"
    }
   ],
   "source": [
    "# Create a list of increasing adding r-squareds\n",
    "rolling_total = [best_regressors[0][0]]\n",
    "num_regressors = [x + 1 for x in range(len(best_regressors[0]))]\n",
    "for i, r2 in enumerate(best_regressors[0][1:]):\n",
    "    \n",
    "    # Get the previous total for the combined r^2s\n",
    "    previous_total = rolling_total[i]\n",
    "    \n",
    "    # Add the next r^2 to the next elements total\n",
    "    next_total = previous_total + r2\n",
    "    \n",
    "    # Add the next rolling total\n",
    "    rolling_total.append(next_total)\n",
    "    \n",
    "plot(num_regressors, rolling_total, marker='o', linestyle='None')\n",
    "xlabel('Number of regressors')\n",
    "ylabel('Total R-Square')\n",
    "show()\n",
    "    "
   ]
  },
  {
   "cell_type": "markdown",
   "metadata": {},
   "source": [
    "# Question 9"
   ]
  },
  {
   "cell_type": "markdown",
   "metadata": {},
   "source": [
    "We created a mask for the target column for at least 40% voting and then applied that mask to set the True values in the boolean mast to 1.0. This indicated that at least 40% of the county voted for Bill Clinton. "
   ]
  },
  {
   "cell_type": "code",
   "execution_count": 143,
   "metadata": {},
   "outputs": [
    {
     "name": "stdout",
     "output_type": "stream",
     "text": [
      "0.0    1469\n",
      "1.0    1235\n",
      "Name: target, dtype: int64\n"
     ]
    },
    {
     "name": "stderr",
     "output_type": "stream",
     "text": [
      "C:\\Users\\tracetschida\\Anaconda2\\lib\\site-packages\\ipykernel_launcher.py:6: SettingWithCopyWarning: \n",
      "A value is trying to be set on a copy of a slice from a DataFrame\n",
      "\n",
      "See the caveats in the documentation: http://pandas.pydata.org/pandas-docs/stable/indexing.html#indexing-view-versus-copy\n",
      "  \n"
     ]
    }
   ],
   "source": [
    "# Create a new target column\n",
    "df['target'] = 0.0\n",
    "\n",
    "# Create a mask with rows that at least 40% percentVoting\n",
    "mask = (df['percentVoting'] >= 40)\n",
    "df['target'][mask] = 1.0\n",
    "\n",
    "print df['target'].value_counts()"
   ]
  },
  {
   "cell_type": "markdown",
   "metadata": {},
   "source": [
    "# Question 10"
   ]
  },
  {
   "cell_type": "markdown",
   "metadata": {},
   "source": [
    "We created dmatrices without the intercepts based on poverty percentage and population density. We then used the scikit learn function to create training and testing data."
   ]
  },
  {
   "cell_type": "code",
   "execution_count": 144,
   "metadata": {},
   "outputs": [],
   "source": [
    "# Split the data into test and train matrices\n",
    "Y, X = dmatrices('target ~ 0 + PercentInPoverty + PopulationDensity',\n",
    "                df, return_type='dataframe')\n",
    "y = Y['target'].values\n",
    "\n",
    "X_train, X_test, y_train, y_test = train_test_split(X,y, test_size=0.3, \n",
    "                                                    random_state=1)\n"
   ]
  },
  {
   "cell_type": "markdown",
   "metadata": {},
   "source": [
    "# Question 11"
   ]
  },
  {
   "cell_type": "markdown",
   "metadata": {},
   "source": [
    "We created a list of nearest neighbors amounts and iterate through that list changing the number of neighors for the training data. We then trained the model and tested it on the testing data."
   ]
  },
  {
   "cell_type": "code",
   "execution_count": 145,
   "metadata": {},
   "outputs": [
    {
     "name": "stdout",
     "output_type": "stream",
     "text": [
      "Number of Neighbors: 1\n",
      "\tTraining Accuracy: 0.997885835095\n",
      "\tTest Accuracy: 0.600985221675\n",
      "Number of Neighbors: 3\n",
      "\tTraining Accuracy: 0.788054968288\n",
      "\tTest Accuracy: 0.635467980296\n",
      "Number of Neighbors: 5\n",
      "\tTraining Accuracy: 0.748414376321\n",
      "\tTest Accuracy: 0.630541871921\n",
      "Number of Neighbors: 10\n",
      "\tTraining Accuracy: 0.720401691332\n",
      "\tTest Accuracy: 0.646551724138\n",
      "Number of Neighbors: 20\n",
      "\tTraining Accuracy: 0.690274841438\n",
      "\tTest Accuracy: 0.658866995074\n",
      "Number of Neighbors: 50\n",
      "\tTraining Accuracy: 0.683932346723\n",
      "\tTest Accuracy: 0.662561576355\n",
      "Number of Neighbors: 100\n",
      "\tTraining Accuracy: 0.677589852008\n",
      "\tTest Accuracy: 0.663793103448\n",
      "Number of Neighbors: 1000\n",
      "\tTraining Accuracy: 0.567124735729\n",
      "\tTest Accuracy: 0.576354679803\n"
     ]
    }
   ],
   "source": [
    "num_neighbors = [1,3,5,10,20,50,100,1000]\n",
    "\n",
    "# Test for different number of nearest neighbors\n",
    "for num in num_neighbors:\n",
    "    \n",
    "    # Create the model\n",
    "    model = neighbors.KNeighborsClassifier(n_neighbors=num, weights='uniform',\n",
    "                                          p=2)\n",
    "    # Fit the classifier to the training data\n",
    "    model.fit(X_train, y_train)\n",
    "    \n",
    "    # Make predictions based on the model for the training class\n",
    "    prediction_on_training = model.predict(X_train)\n",
    "    \n",
    "    # Make prediction based on the model for the testing class\n",
    "    prediction_on_testing = model.predict(X_test)\n",
    "    \n",
    "    # Print the results\n",
    "    print 'Number of Neighbors: ' + str(num) + '\\n\\tTraining Accuracy: ' + \\\n",
    "    str(metrics.accuracy_score(y_train, prediction_on_training)) + \\\n",
    "    '\\n\\tTest Accuracy: ' +  \\\n",
    "    str(metrics.accuracy_score(y_test, prediction_on_testing))"
   ]
  },
  {
   "cell_type": "markdown",
   "metadata": {},
   "source": [
    "# Question 12"
   ]
  },
  {
   "cell_type": "markdown",
   "metadata": {},
   "source": [
    "It looks like more dense higher poverty counties voted for Bill Clinton. This indicated that large urban counties, probably with a large metropolitan city voted for Clinton. These larger cities typically have higher rates of poverty and lean left (Democratic)"
   ]
  },
  {
   "cell_type": "code",
   "execution_count": 149,
   "metadata": {},
   "outputs": [
    {
     "data": {
      "text/plain": [
       "Text(0,0.5,u'Percent in Poverty')"
      ]
     },
     "execution_count": 149,
     "metadata": {},
     "output_type": "execute_result"
    },
    {
     "data": {
      "image/png": "[encoded data removed]",
      "text/plain": [
       "<matplotlib.figure.Figure at 0xfa6bac8>"
      ]
     },
     "metadata": {},
     "output_type": "display_data"
    }
   ],
   "source": [
    "# Create a scatter plot of Population Density vs Poverty \n",
    "# Color by the target classification\n",
    "sc = scatter(df['PopulationDensity'], df['PercentInPoverty'], c=df['target'], cmap='bwr')\n",
    "xlabel('Population Density')\n",
    "ylabel('Percent in Poverty')"
   ]
  },
  {
   "cell_type": "code",
   "execution_count": null,
   "metadata": {
    "collapsed": true
   },
   "outputs": [],
   "source": []
  }
 ],
 "metadata": {
  "kernelspec": {
   "display_name": "Python 2",
   "language": "python",
   "name": "python2"
  },
  "language_info": {
   "codemirror_mode": {
    "name": "ipython",
    "version": 2
   },
   "file_extension": ".py",
   "mimetype": "text/x-python",
   "name": "python",
   "nbconvert_exporter": "python",
   "pygments_lexer": "ipython2",
   "version": "2.7.14"
  }
 },
 "nbformat": 4,
 "nbformat_minor": 2
}
